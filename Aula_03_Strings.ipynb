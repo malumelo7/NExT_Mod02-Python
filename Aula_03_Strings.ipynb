{
  "nbformat": 4,
  "nbformat_minor": 0,
  "metadata": {
    "colab": {
      "name": "Cópia de [E] Aula 03 - Strings.ipynb",
      "provenance": [],
      "collapsed_sections": [],
      "include_colab_link": true
    },
    "kernelspec": {
      "name": "python3",
      "display_name": "Python 3"
    },
    "language_info": {
      "name": "python"
    }
  },
  "cells": [
    {
      "cell_type": "markdown",
      "metadata": {
        "id": "view-in-github",
        "colab_type": "text"
      },
      "source": [
        "<a href=\"https://colab.research.google.com/github/malumelo7/next_mod02-python/blob/main/Aula_03_Strings.ipynb\" target=\"_parent\"><img src=\"https://colab.research.google.com/assets/colab-badge.svg\" alt=\"Open In Colab\"/></a>"
      ]
    },
    {
      "cell_type": "markdown",
      "metadata": {
        "id": "tRvcy-qw7juT"
      },
      "source": [
        "<img src=\"https://www.cesar.school/wp-content/uploads/2019/09/marca_cesar_school.png\" alt=\"drawing\" width=\"200\"/>\n",
        "\n",
        "# Python - **Aula 03**\n",
        "\n",
        "---\n",
        "\n",
        "- Manipulação de Strings"
      ]
    },
    {
      "cell_type": "markdown",
      "metadata": {
        "id": "w4q08h5q8Joc"
      },
      "source": [
        "## str\n",
        "\n",
        "Em Python, textos são armazenados como uma sequência de caracteres [Unicode](https://pt.wikipedia.org/wiki/Unicode). Essa seguência, conhecida como **String** é representada no Python com o tipo `str`.\n",
        "\n",
        "[ASCII](https://www.ime.usp.br/~kellyrb/mac2166_2015/tabela_ascii.html)\n",
        "\n",
        "Ex.: `'Exemplo de Texto'`\n",
        "\n",
        "Por ser uma sequência, é possivel acessar cada caracter através de um índice. Além disso, o tipo `str` fornece uma variedade de métodos de manipulação desses caracteres.\n",
        "\n",
        "Para criar uma variável `str`, é possível usar aspas simples, duplas ou \"triplas\":"
      ]
    },
    {
      "cell_type": "code",
      "metadata": {
        "id": "kV7Yrphu7SqF"
      },
      "source": [
        "# Aspas simples\n",
        "sim = 'Simples'\n",
        "\n",
        "# Aspas duplas\n",
        "dup = \"Duplas\"\n",
        "\n",
        "# Aspas triplas*\n",
        "tri = '''Triplas\n",
        "podem\n",
        "ter várias\n",
        "linhas'''\n",
        "\n",
        "print(sim)\n",
        "print(dup)\n",
        "print(tri)"
      ],
      "execution_count": null,
      "outputs": []
    },
    {
      "cell_type": "markdown",
      "metadata": {
        "id": "BrZTwMpu-FEq"
      },
      "source": [
        "## Caracteres de Escape\n",
        "\n",
        "São chamados de **caracteres de escape** marcadores usados para acessar caracteres do código Unicode. Para escreve-los, use `contra-barra + caractere`:\n",
        "\n",
        "| sintaxe | descrição |\n",
        "|---------|-----------|\n",
        "| `\\n` | Quebra de linha |\n",
        "| `\\t` | Tabulação |\n",
        "| `\\'` | Aspas simples |\n",
        "| `\\\"` | Aspas duplas |\n",
        "| `\\\\` | Contra-barra |\n",
        "\n",
        "> Obs.: A interpretação dos caracteres de escape pode ser \"desativada\" usando Raw Strings, marcadas com um `r` antes das aspas:\n",
        "```python\n",
        "text = r'Exemplo de texto\\nSem caracteres de escape'\n",
        "```"
      ]
    },
    {
      "cell_type": "code",
      "metadata": {
        "id": "NzRBt9dw99n-",
        "colab": {
          "base_uri": "https://localhost:8080/"
        },
        "outputId": "9aebbcaa-7c65-4551-bbce-29855841a99d"
      },
      "source": [
        "# caracteres de escape\n",
        "print('ola\\n como \\\\vai voce?\\t\"Tudo bem\\\"!')\n",
        "\n",
        "# r-strings\n",
        "print(r'Olá\\nComo vai você?')\n"
      ],
      "execution_count": null,
      "outputs": [
        {
          "output_type": "stream",
          "text": [
            "ola\n",
            " como \\vai voce?\t\"Tudo bem\"!\n",
            "Olá\\nComo vai você?\n"
          ],
          "name": "stdout"
        }
      ]
    },
    {
      "cell_type": "markdown",
      "metadata": {
        "id": "ZxcEKfujBVqL"
      },
      "source": [
        "## Função embutida `len()`\n",
        "\n",
        "A função `len()` retorna a quantidade de itens dentro de um \"container\". Como as strings de Python são coleções de caracteres, a função `len()` quando recebe uma string, retorna a quantade de caracteres do texto.\n",
        "\n",
        "```python\n",
        "text = 'supercalifragilisticexpialidocious'\n",
        "print(len(text)) # 34\n",
        "```"
      ]
    },
    {
      "cell_type": "code",
      "metadata": {
        "id": "dK0Nos7pBsTo",
        "colab": {
          "base_uri": "https://localhost:8080/"
        },
        "outputId": "53751824-6d2e-4964-bae8-bc87822e444d"
      },
      "source": [
        "text = 'supercalifragilisticexpialidocious'\n",
        "print(len(text))\n",
        "\n",
        "exp = 'oi 1'\n",
        "print(len(exp))"
      ],
      "execution_count": null,
      "outputs": [
        {
          "output_type": "stream",
          "text": [
            "34\n",
            "4\n"
          ],
          "name": "stdout"
        }
      ]
    },
    {
      "cell_type": "markdown",
      "metadata": {
        "id": "lAD8Fh2NCzIL"
      },
      "source": [
        "## Indexação de Strings\n",
        "\n",
        "<!--![Hello](https://developers.google.com/edu/python/images/hello.png)-->\n",
        "\n",
        "|P|y|t|h|o|n|\n",
        "|-|-|-|-|-|-|\n",
        "|0|1|2|3|4|5|6|\n",
        "|-6|-5|-4|-3|-2|-1|\n",
        "\n",
        "Cada caractere dentro de uma string pode ser acessado pela sua posição (índice). Esse *index* pode ser positivo ou negativo.\n",
        "\n",
        "```python\n",
        "py = 'Python'\n",
        "py[3] # h\n",
        "```\n",
        "\n",
        "Além de um caractere específico acessado pela posição, é possível acessar fazer o *fatiamento*. Fatiar permite que você obtenha *substring*:\n",
        "\n",
        "```python\n",
        "py[0:2] # caracteres da posição 0 (incluído) até 2 (excluído)\n",
        "py[2:5] # caracteres da posição 2 (incluído) até 5 (excluído)\n",
        "```\n",
        "\n",
        "Ainda existe uma outra notação que permite acessar substrings de uma posição até outra determinando o passo:\n",
        "\n",
        "```python\n",
        "text = 'Só sei que nada sei'\n",
        "text[0:20:2] # caracteres da posição 0 (incluído) até 20 (excluído), passo 2\n",
        "```\n",
        "\n",
        "> Obs.: Não existe um tipo \"caractere\". Em Python um caracter é uma string que possui tamanho 1."
      ]
    },
    {
      "cell_type": "code",
      "metadata": {
        "id": "HGPH61z6GE4s",
        "colab": {
          "base_uri": "https://localhost:8080/"
        },
        "outputId": "069ccab8-375b-4169-ecd6-357961e50813"
      },
      "source": [
        "text = 'Esse é um exemplo da hora!'\n",
        "# Posição por index\n",
        "print(text[0])\n",
        "print(text[1])\n",
        "print(text[-1])\n",
        "\n",
        "# Substring\n",
        "print(text[0:4])\n",
        "\n",
        "# Substring com passo\n",
        "print(text)\n",
        "print(text[::2])\n",
        "print(text[1::2])\n",
        "\n",
        "# Substring invertida com passo\n",
        "print(text[::-2])\n"
      ],
      "execution_count": null,
      "outputs": [
        {
          "output_type": "stream",
          "text": [
            "E\n",
            "s\n",
            "!\n",
            "Esse\n",
            "Esse é um exemplo da hora!\n",
            "Es  meepod oa\n",
            "seéu xml ahr!\n",
            "!rha lmx uées\n"
          ],
          "name": "stdout"
        }
      ]
    },
    {
      "cell_type": "markdown",
      "metadata": {
        "id": "0T9hcreaHoIb"
      },
      "source": [
        "## str.find()\n",
        "\n",
        "Retorna a posição de uma determinada substring procurada.\n",
        "\n",
        "Se o valor retornado for:\n",
        "- `>= 0` : Substring encontrado numa posição específica\n",
        "- `< 0` : Substring não encontrado"
      ]
    },
    {
      "cell_type": "markdown",
      "metadata": {
        "id": "3DKnLRyiokOS"
      },
      "source": [
        "OBS: Find retorna -1 caso não ache, se usar indexof, ele dá erro"
      ]
    },
    {
      "cell_type": "code",
      "metadata": {
        "id": "kCyw4bQsHxfp",
        "colab": {
          "base_uri": "https://localhost:8080/"
        },
        "outputId": "9d45b1de-96de-4af1-e938-8d5e282e99f2"
      },
      "source": [
        "#help(''.find)\n",
        "\n",
        "print('Ola meu nome é Erick'.find('e'))"
      ],
      "execution_count": null,
      "outputs": [
        {
          "output_type": "stream",
          "text": [
            "5\n"
          ],
          "name": "stdout"
        }
      ]
    },
    {
      "cell_type": "markdown",
      "metadata": {
        "id": "PfIqf0E0IYoT"
      },
      "source": [
        "## str.count()\n",
        "\n",
        "Retorna a quantidade de ocorrências de determinada substring."
      ]
    },
    {
      "cell_type": "code",
      "metadata": {
        "id": "JuXSls5wJNU0",
        "colab": {
          "base_uri": "https://localhost:8080/"
        },
        "outputId": "ab8ec69e-0e9a-477a-9ac7-e80ab7fdea9e"
      },
      "source": [
        "#help(''.count)\n",
        "nat = 'Ola natalia, meu nome é natalia'\n",
        "print(nat.find('natalia'))\n",
        "print(nat.find('natalia', 9))"
      ],
      "execution_count": null,
      "outputs": [
        {
          "output_type": "stream",
          "text": [
            "4\n",
            "24\n"
          ],
          "name": "stdout"
        }
      ]
    },
    {
      "cell_type": "markdown",
      "metadata": {
        "id": "xz5Cg49fJP_M"
      },
      "source": [
        "## Operações com Strings\n",
        "\n",
        "> ⚠ Strings em Python são imutáveis, o que signifca que atribuir um valor a uma posição indexada irá resultar em um erro.\n",
        "\n",
        "Os seguintes operadores podem ser usados com strings:\n",
        "\n",
        "- `+` - Concatenação\n",
        "- `*` - Repetição"
      ]
    },
    {
      "cell_type": "code",
      "metadata": {
        "id": "aSMaMv76M7w-",
        "colab": {
          "base_uri": "https://localhost:8080/"
        },
        "outputId": "ab1fc8b6-6231-4d57-ce87-62cf9c3ce96b"
      },
      "source": [
        "nome = \"Linda\"\n",
        "nome += ' Inês'\n",
        "print(nome)\n",
        "\n",
        "'''nome[0] = \"V\"\n",
        "print(nome)'''\n",
        "\n",
        "print('*'*50)\n",
        "nome = nome + ' está fazendo o NExT'\n",
        "print(nome*2)"
      ],
      "execution_count": null,
      "outputs": [
        {
          "output_type": "stream",
          "text": [
            "Linda Inês\n",
            "**************************************************\n",
            "Linda Inês está fazendo o NExTLinda Inês está fazendo o NExT\n"
          ],
          "name": "stdout"
        }
      ]
    },
    {
      "cell_type": "markdown",
      "metadata": {
        "id": "7HX9iZyjM-F7"
      },
      "source": [
        "## str.lower() e str.upper()\n",
        "\n",
        "- `.lower()` - Retorna uma nova string com caracteres em maiúsculo\n",
        "- `.upper()` - Retorna uma nova string com caracteres em minúsculo"
      ]
    },
    {
      "cell_type": "code",
      "metadata": {
        "id": "jqhQ9-IpNd5L",
        "colab": {
          "base_uri": "https://localhost:8080/"
        },
        "outputId": "59f8427b-0ddf-4692-af75-24a5f6e8bd28"
      },
      "source": [
        "exp = \"Um texto de Exemplo\"\n",
        "\n",
        "print(exp.lower())\n",
        "print(exp.upper())"
      ],
      "execution_count": null,
      "outputs": [
        {
          "output_type": "stream",
          "text": [
            "um texto de exemplo\n",
            "UM TEXTO DE EXEMPLO\n"
          ],
          "name": "stdout"
        }
      ]
    },
    {
      "cell_type": "markdown",
      "metadata": {
        "id": "gqZS8743HcmT"
      },
      "source": [
        "## f-Strings\n",
        "\n",
        "> formatted string literals\n",
        "\n",
        "```python\n",
        "name = 'Erick'\n",
        "print(f'Meu nome é {name}')\n",
        "```\n"
      ]
    },
    {
      "cell_type": "code",
      "metadata": {
        "id": "WPltXEA3HetE",
        "colab": {
          "base_uri": "https://localhost:8080/"
        },
        "outputId": "15a36ea4-be24-4ab4-8add-3ea1f84c35e7"
      },
      "source": [
        "name = 'Erick'\n",
        "print(f'Meu nome é {name}')"
      ],
      "execution_count": null,
      "outputs": [
        {
          "output_type": "stream",
          "text": [
            "Meu nome é Erick\n"
          ],
          "name": "stdout"
        }
      ]
    },
    {
      "cell_type": "markdown",
      "metadata": {
        "id": "PN-C0mXFNeR0"
      },
      "source": [
        "## str.split()\n",
        "\n",
        "Retorna uma lista de substrings dividido por um separador. Se nenhum parâmetro for passado, o separador (ou delimitador) adotado é o espaço em branco."
      ]
    },
    {
      "cell_type": "code",
      "metadata": {
        "id": "YD3qFXcHN83D",
        "colab": {
          "base_uri": "https://localhost:8080/"
        },
        "outputId": "7ea5d4d6-e4d5-4856-818a-c1ebb5a37bdd"
      },
      "source": [
        "exp = 'esse é um exemplo muito da hora'\n",
        "lista = exp.split()\n",
        "print(lista[2])"
      ],
      "execution_count": null,
      "outputs": [
        {
          "output_type": "stream",
          "text": [
            "um\n"
          ],
          "name": "stdout"
        }
      ]
    },
    {
      "cell_type": "markdown",
      "metadata": {
        "id": "42qxIR7TOZ_G"
      },
      "source": [
        "## str.replace()\n",
        "\n",
        "Retorna uma nova string com um texto substituído por outro.\n",
        "\n",
        "```python\n",
        "str.replace('old', 'new')\n",
        "```"
      ]
    },
    {
      "cell_type": "code",
      "metadata": {
        "id": "YTqjBSxxO1Sl",
        "colab": {
          "base_uri": "https://localhost:8080/"
        },
        "outputId": "750e3bfc-7c44-4bb0-ac1e-9a64e7f24d0c"
      },
      "source": [
        "exp = 'Geralt de Rivia é um grande Witcher, Geralt tem vários inimigos.'\n",
        "print(exp.replace('Geralt', 'Geraldo', 1))"
      ],
      "execution_count": null,
      "outputs": [
        {
          "output_type": "stream",
          "text": [
            "Geralt de Rivia é um grande Witcher\n"
          ],
          "name": "stdout"
        }
      ]
    },
    {
      "cell_type": "markdown",
      "metadata": {
        "id": "8jYfr3e9HNiU"
      },
      "source": [
        "## str.isdigt()\n",
        "\n",
        "Retorna `True` se todos os caracteres da string forem números.\n",
        "\n",
        "```python\n",
        "str.isdigit('103')\n",
        "```"
      ]
    },
    {
      "cell_type": "code",
      "metadata": {
        "id": "0mCscST_HXTU",
        "colab": {
          "base_uri": "https://localhost:8080/"
        },
        "outputId": "dfc963af-1b00-45fa-c60e-0d34fbe3e8e2"
      },
      "source": [
        "print('123'.isdigit())\n",
        "print('123b'.isdigit())\n",
        "print('-123'.isdigit())\n",
        "print('123.0'.isdigit())"
      ],
      "execution_count": null,
      "outputs": [
        {
          "output_type": "stream",
          "text": [
            "True\n",
            "False\n",
            "False\n",
            "False\n"
          ],
          "name": "stdout"
        }
      ]
    },
    {
      "cell_type": "markdown",
      "metadata": {
        "id": "Leg8dXP8-S4K"
      },
      "source": [
        "# Exercícios Fundamentais"
      ]
    },
    {
      "cell_type": "markdown",
      "metadata": {
        "id": "U1alCDlOLkdM"
      },
      "source": [
        "0. Escreva um programa que verifique se determinada entrada de usuário é um número. Considere válido números interios e reais, positivos e negativos, como: `10`, `-20`, `103.0`, `-12.5`"
      ]
    },
    {
      "cell_type": "code",
      "metadata": {
        "id": "l1fwmi56LnqC",
        "colab": {
          "base_uri": "https://localhost:8080/"
        },
        "outputId": "6da8b965-e595-4812-d42a-50e9e34cf2d3"
      },
      "source": [
        "num = '-10.0'\n",
        "\n",
        "if num.isdigit():\n",
        "  print('Valor inteiro válido')\n",
        "elif num.find('-') == 0 and num[1:].isdigit():\n",
        "  print('Valor inteiro negativo válido')\n",
        "elif num.count('.') == 1 and num.count('-') == 0 and 1 <= num.find('.') < len(num):\n",
        "  print('Valor real positivo válido')\n",
        "elif num.count('.') == 1 and 1 <= num.find('.') < len(num):\n",
        "  print('Valor real negativo válido')\n",
        "else:\n",
        "  print('Valor inválido')"
      ],
      "execution_count": null,
      "outputs": [
        {
          "output_type": "stream",
          "text": [
            "Valor real negativo válido\n"
          ],
          "name": "stdout"
        }
      ]
    },
    {
      "cell_type": "markdown",
      "metadata": {
        "id": "cbHjfaFBD1iv"
      },
      "source": [
        "1. Faça um programa que leia uma string e a imprima."
      ]
    },
    {
      "cell_type": "code",
      "metadata": {
        "id": "ueshYTIsD1C3",
        "colab": {
          "base_uri": "https://localhost:8080/"
        },
        "outputId": "e681afea-df4b-4890-cbd7-e44c872ac1c9"
      },
      "source": [
        "dado = input('Digite um texto: ')\n",
        "print(dado)"
      ],
      "execution_count": null,
      "outputs": [
        {
          "output_type": "stream",
          "text": [
            "Digite um texto: Xalala\n",
            "Xalala\n"
          ],
          "name": "stdout"
        }
      ]
    },
    {
      "cell_type": "markdown",
      "metadata": {
        "id": "2l-QrkDjD3Xm"
      },
      "source": [
        "2. Crie um programa que imprima o comprimento de uma string."
      ]
    },
    {
      "cell_type": "code",
      "metadata": {
        "id": "3pTXbzeZD3_O",
        "colab": {
          "base_uri": "https://localhost:8080/"
        },
        "outputId": "50013c5c-b20c-4fc2-99d9-4934a93f553c"
      },
      "source": [
        "# python -> 6\n",
        "text = input('Digite um texto: ')\n",
        "print(len(text))\n"
      ],
      "execution_count": null,
      "outputs": [
        {
          "output_type": "stream",
          "text": [
            "Digite um texto: Oi meu nome é bruce\n",
            "19\n"
          ],
          "name": "stdout"
        }
      ]
    },
    {
      "cell_type": "markdown",
      "metadata": {
        "id": "GJ-8wiZfD6B2"
      },
      "source": [
        "3. Crie um programa que compara duas strings."
      ]
    },
    {
      "cell_type": "code",
      "metadata": {
        "id": "zVZfJB1TD6O_"
      },
      "source": [
        "# python é igual python ?\n",
        "\n",
        "texto1 = 'python'\n",
        "texto2 = 'python'\n",
        "\n",
        "if texto1 == texto2:\n",
        "  return True\n",
        "return False\n"
      ],
      "execution_count": null,
      "outputs": []
    },
    {
      "cell_type": "markdown",
      "metadata": {
        "id": "vgmwilBtEN7k"
      },
      "source": [
        "4. Faça um programa que leia um nome e imprima as 4 primeiras letras do nome."
      ]
    },
    {
      "cell_type": "code",
      "metadata": {
        "id": "aBG8au6GEOr1",
        "colab": {
          "base_uri": "https://localhost:8080/"
        },
        "outputId": "5177c294-be76-4f8d-9b07-acaf4d3b92b1"
      },
      "source": [
        "# python -> pyth\n",
        "\n",
        "dado = input('Digite um nome: ')\n",
        "print(dado[:4])\n"
      ],
      "execution_count": null,
      "outputs": [
        {
          "output_type": "stream",
          "text": [
            "Digite um nome: python\n",
            "pyth\n"
          ],
          "name": "stdout"
        }
      ]
    },
    {
      "cell_type": "markdown",
      "metadata": {
        "id": "0vmlOK_jEffg"
      },
      "source": [
        "5. Escreva um programa que substitui as ocorrencias de um caractere 0 em uma string por outro caractere 1."
      ]
    },
    {
      "cell_type": "code",
      "metadata": {
        "id": "Bbkx8pbbEgGI",
        "colab": {
          "base_uri": "https://localhost:8080/"
        },
        "outputId": "315e5997-8384-4a92-a161-92d6a817b160"
      },
      "source": [
        "# 010101 -> 111111\n",
        "num = '010101'\n",
        "\n",
        "substituido = num.replace('0', '1')\n",
        "print(substituido)\n"
      ],
      "execution_count": null,
      "outputs": [
        {
          "output_type": "stream",
          "text": [
            "111111\n"
          ],
          "name": "stdout"
        }
      ]
    },
    {
      "cell_type": "markdown",
      "metadata": {
        "id": "j90EEiCEEgux"
      },
      "source": [
        "6. Entre com um nome e imprima o nome somente se a primeira letra do nome for “a” (maiuscula ou minuscula)."
      ]
    },
    {
      "cell_type": "code",
      "metadata": {
        "id": "irUDOxPNEjPC",
        "colab": {
          "base_uri": "https://localhost:8080/"
        },
        "outputId": "1e6bd95b-cf0d-4729-f09b-92d4692026da"
      },
      "source": [
        "dado = input('Digite um nome: ')\n",
        "\n",
        "if (dado[0].lower() == 'a'):\n",
        "  print(dado)"
      ],
      "execution_count": null,
      "outputs": [
        {
          "output_type": "stream",
          "text": [
            "Digite um nome: alan\n",
            "alan\n"
          ],
          "name": "stdout"
        }
      ]
    },
    {
      "cell_type": "markdown",
      "metadata": {
        "id": "BstVdrmYEjZp"
      },
      "source": [
        "7. Faça um programa que receba do usuario uma string. O programa imprime a string sem suas vogais."
      ]
    },
    {
      "cell_type": "code",
      "metadata": {
        "id": "bZD3iQG5EqiY",
        "colab": {
          "base_uri": "https://localhost:8080/",
          "height": 52
        },
        "outputId": "b5862631-a11d-4e7f-c8b4-1fb56ff80f07"
      },
      "source": [
        "dado = input('Digite uma string: ')\n",
        "\n",
        "dado.replace('a', '').replace('e', '').replace('i', '').replace('o', '').replace('u', '')\n"
      ],
      "execution_count": null,
      "outputs": [
        {
          "output_type": "stream",
          "text": [
            "Digite uma string: aieuaxaneoglknfkln\n"
          ],
          "name": "stdout"
        },
        {
          "output_type": "execute_result",
          "data": {
            "application/vnd.google.colaboratory.intrinsic+json": {
              "type": "string"
            },
            "text/plain": [
              "'xnglknfkln'"
            ]
          },
          "metadata": {
            "tags": []
          },
          "execution_count": 1
        }
      ]
    },
    {
      "cell_type": "markdown",
      "metadata": {
        "id": "_Z0PwCJXEqxM"
      },
      "source": [
        "8. Faça um programa em que troque todas as ocorrencias de uma letra L1 pela letra L2 em uma string. A string e as letras L1 e L2 devem ser fornecidas pelo usuario."
      ]
    },
    {
      "cell_type": "code",
      "metadata": {
        "id": "QjX_42aQFIOe",
        "colab": {
          "base_uri": "https://localhost:8080/",
          "height": 86
        },
        "outputId": "4ff0651b-bb61-4aed-a90e-77638209e8ab"
      },
      "source": [
        "dado = input('Digite uma string: ')\n",
        "antiga = input('Digite a letra que será substituída: ')\n",
        "nova = input('Digite a letra nova que você quer: ')\n",
        "\n",
        "print(dado.replace(antiga, nova))"
      ],
      "execution_count": null,
      "outputs": [
        {
          "output_type": "stream",
          "text": [
            "Digite uma string: malu vitoria barbosa de melo\n",
            "Digite a letra que será substituída: o\n",
            "Digite a letra nova que você quer: x\n"
          ],
          "name": "stdout"
        },
        {
          "output_type": "execute_result",
          "data": {
            "application/vnd.google.colaboratory.intrinsic+json": {
              "type": "string"
            },
            "text/plain": [
              "'malu vitxria barbxsa de melx'"
            ]
          },
          "metadata": {
            "tags": []
          },
          "execution_count": 39
        }
      ]
    },
    {
      "cell_type": "markdown",
      "metadata": {
        "id": "YY-qlVJB-VDV"
      },
      "source": [
        "# Exercícios de Aprofundamento"
      ]
    },
    {
      "cell_type": "markdown",
      "metadata": {
        "id": "DDF__ihbEBVr"
      },
      "source": [
        "1. Faça um programa para converter uma letra maiuscula em letra minuscula. Use a tabela ASCII para resolver o problema."
      ]
    },
    {
      "cell_type": "code",
      "metadata": {
        "id": "QOBeBJWKEAm8",
        "colab": {
          "base_uri": "https://localhost:8080/"
        },
        "outputId": "7ced761e-8522-4426-d15a-8a0a1c92ee53"
      },
      "source": [
        "char_upper = input('Insira o caractere maiúsculo: ')\n",
        "\n",
        "char_lower = chr(ord(char_upper) + 32)\n",
        "\n",
        "print(char_lower)"
      ],
      "execution_count": null,
      "outputs": [
        {
          "output_type": "stream",
          "text": [
            "Insira o caractere maiúsculo: Ç\n",
            "ç\n"
          ],
          "name": "stdout"
        }
      ]
    },
    {
      "cell_type": "markdown",
      "metadata": {
        "id": "Yh7VBKntEA1c"
      },
      "source": [
        "2. Ler nome, sexo e idade. Se sexo for feminino e idade menor que 25, imprime o nome da pessoa e a palavra “ACEITA”, caso contrario imprimir “NÃO ACEITA”."
      ]
    },
    {
      "cell_type": "code",
      "metadata": {
        "id": "NEccKb6KEWyF",
        "colab": {
          "base_uri": "https://localhost:8080/"
        },
        "outputId": "e2677e3a-38df-4ef1-e0ae-4636112a65d4"
      },
      "source": [
        "nome = input('Digite o nome: ')\n",
        "sexo = input('Digite o sexo (f ou m): ').lower()\n",
        "idade = int(input('Digite a idade: '))\n",
        "\n",
        "if sexo == 'f' and idade < 25:\n",
        "  print(f'ACEITA {nome}')\n",
        "else:\n",
        "  print('NÃO ACEITA')"
      ],
      "execution_count": null,
      "outputs": [
        {
          "output_type": "stream",
          "text": [
            "Digite o nome: Malu\n",
            "Digite o sexo (f ou m): f\n",
            "Digite a idade: 23\n",
            "ACEITA Malu\n"
          ],
          "name": "stdout"
        }
      ]
    },
    {
      "cell_type": "markdown",
      "metadata": {
        "id": "1Moz3Zx-EXE5"
      },
      "source": [
        "3. Faça um programa que conte o numero de 1's que aparecem em um string. Exemplo: \n",
        "\n",
        "0011001 -> 3"
      ]
    },
    {
      "cell_type": "code",
      "metadata": {
        "id": "_rikXdioEa45",
        "colab": {
          "base_uri": "https://localhost:8080/"
        },
        "outputId": "3652ce7a-cca0-469f-c69a-3f4705a5ce66"
      },
      "source": [
        "numero = input('Digite um número: ')\n",
        "\n",
        "repetidos = numero.count('1')\n",
        "print(repetidos)"
      ],
      "execution_count": null,
      "outputs": [
        {
          "output_type": "stream",
          "text": [
            "Digite um número: 0011001\n",
            "3\n"
          ],
          "name": "stdout"
        }
      ]
    },
    {
      "cell_type": "markdown",
      "metadata": {
        "id": "Qndx5ui-EnyQ"
      },
      "source": [
        "4. Faça um programa que receba uma palavra e a imprima de tras-para-frente."
      ]
    },
    {
      "cell_type": "code",
      "metadata": {
        "id": "lvAMDSv4EoLn",
        "colab": {
          "base_uri": "https://localhost:8080/"
        },
        "outputId": "7a8a92d0-98e9-4ccb-a4d0-de24b93ee8a4"
      },
      "source": [
        "palavra = input('Digite uma palavra: ')\n",
        "\n",
        "print(palavra[::-1])"
      ],
      "execution_count": null,
      "outputs": [
        {
          "output_type": "stream",
          "text": [
            "Digite uma palavra: Malu\n",
            "ulaM\n"
          ],
          "name": "stdout"
        }
      ]
    },
    {
      "cell_type": "markdown",
      "metadata": {
        "id": "zkMtGHOrEtXx"
      },
      "source": [
        "5. Faça um programa que receba uma palavra e calcule quantas vogais (a, e, i, o, u) possui essa palavra. Entre com um caractere (vogal ou consoante) e substitua todas as vogais da palavra dada por esse caractere."
      ]
    },
    {
      "cell_type": "code",
      "metadata": {
        "id": "o_yqagj2Et4Q",
        "colab": {
          "base_uri": "https://localhost:8080/"
        },
        "outputId": "bb416672-2be9-44f9-ec7d-65ac65c2de32"
      },
      "source": [
        "palavra = input('Insira uma palavra: ')\n",
        "letra = input('Digite uma letra para substituir as vogais: ')\n",
        "\n",
        "qtd_a = palavra.count('a')\n",
        "qtd_e = palavra.count('e')\n",
        "qtd_i = palavra.count('i')\n",
        "qtd_o = palavra.count('o')\n",
        "qtd_u = palavra.count('u')\n",
        "\n",
        "palavra = palavra.replace('a', letra)\n",
        "palavra = palavra.replace('e', letra)\n",
        "palavra = palavra.replace('i', letra)\n",
        "palavra = palavra.replace('o', letra)\n",
        "palavra = palavra.replace('u', letra)\n",
        "\n",
        "qtd_vogais = qtd_a + qtd_e + qtd_i + qtd_o + qtd_u\n",
        "\n",
        "print(f'A palavra tinha {qtd_vogais} vogais!')\n",
        "print(palavra)"
      ],
      "execution_count": null,
      "outputs": [
        {
          "output_type": "stream",
          "text": [
            "Insira uma palavra: Xalalinhenhinhoum\n",
            "Digite uma letra para substituir as vogais: h\n",
            "A palavra tinha 7 vogais!\n",
            "Xhlhlhnhhnhhnhhhm\n"
          ],
          "name": "stdout"
        }
      ]
    },
    {
      "cell_type": "markdown",
      "metadata": {
        "id": "gdKlAXLHEwnv"
      },
      "source": [
        "6. Ler uma frase e contar quantos caracteres sao brancos. Lembre-se que uma frase e um conjunto de caracteres (vetor)."
      ]
    },
    {
      "cell_type": "code",
      "metadata": {
        "id": "GR6PBJAyExT2",
        "colab": {
          "base_uri": "https://localhost:8080/"
        },
        "outputId": "703ff654-19b7-46ed-e482-c3c0aa3d99be"
      },
      "source": [
        "texto = input(\"Digite uma frase: \")\n",
        "\n",
        "print(texto.count(\" \"))"
      ],
      "execution_count": null,
      "outputs": [
        {
          "output_type": "stream",
          "text": [
            "Digite uma frase: Malu Vitoria Barbosa de Melo\n",
            "4\n"
          ],
          "name": "stdout"
        }
      ]
    },
    {
      "cell_type": "markdown",
      "metadata": {
        "id": "7EV-Ig4ME1eZ"
      },
      "source": [
        "7. Fac¸a um programa que leia uma palavra e some 1 no valor ASCII de cada caractere da\n",
        "palavra. Imprima a string resultante."
      ]
    },
    {
      "cell_type": "code",
      "metadata": {
        "id": "goY3XWSPE2Bi",
        "colab": {
          "base_uri": "https://localhost:8080/"
        },
        "outputId": "6d925856-6d80-45db-a807-68def5c1375f"
      },
      "source": [
        "palavra = input('Digite uma palavra: ')\n",
        "lista_palavra = []\n",
        "\n",
        "for letra in palavra:\n",
        "  lista_palavra.append(chr(ord(letra) + 1))\n",
        "\n",
        "print(lista_palavra)\n"
      ],
      "execution_count": null,
      "outputs": [
        {
          "output_type": "stream",
          "text": [
            "Digite uma palavra: Malu\n",
            "['N', 'b', 'm', 'v']\n"
          ],
          "name": "stdout"
        }
      ]
    },
    {
      "cell_type": "markdown",
      "metadata": {
        "id": "sc2Y5wRdE7Qv"
      },
      "source": [
        "8. Leia uma cadeia de caracteres e converta todos os caracteres para maiuscula. \n",
        "Dica:\n",
        "subtraia 32 dos caracteres cujo codigo ASCII esta entre 65 e 90. "
      ]
    },
    {
      "cell_type": "code",
      "metadata": {
        "id": "cHlW15vSE70P",
        "colab": {
          "base_uri": "https://localhost:8080/"
        },
        "outputId": "a3334108-825d-41e1-82be-76af3d1b999a"
      },
      "source": [
        "palavra = input('Digite uma palavra(letras minúsculas): ')\n",
        "lista_palavra = []\n",
        "\n",
        "for letra in palavra:\n",
        "  lista_palavra.append(chr(ord(letra) - 32))\n",
        "\n",
        "lista_palavra = ''.join(lista_palavra)\n",
        "\n",
        "print(lista_palavra)\n"
      ],
      "execution_count": null,
      "outputs": [
        {
          "output_type": "stream",
          "text": [
            "Digite uma palavra(letras minúsculas): xalala\n",
            "XALALA\n"
          ],
          "name": "stdout"
        }
      ]
    },
    {
      "cell_type": "markdown",
      "metadata": {
        "id": "BFl0gSmQE-XW"
      },
      "source": [
        "9. Escreva um programa para converter uma cadeia de caracteres de letras maiusculas em letras minusculas."
      ]
    },
    {
      "cell_type": "code",
      "metadata": {
        "id": "dnh8mPVLE-6w",
        "colab": {
          "base_uri": "https://localhost:8080/"
        },
        "outputId": "9ef5d928-eb5a-41f9-e52b-81010c0caf1c"
      },
      "source": [
        "texto = input('Digite uma frase: ')\n",
        "\n",
        "print(texto.lower())"
      ],
      "execution_count": null,
      "outputs": [
        {
          "output_type": "stream",
          "text": [
            "Digite uma frase: PUTA MERDA EIN\n",
            "puta merda ein\n"
          ],
          "name": "stdout"
        }
      ]
    },
    {
      "cell_type": "markdown",
      "metadata": {
        "id": "0sHIsMBUFBpO"
      },
      "source": [
        "10. Leia um vetor contendo letras de uma frase inclusive os espaços em branco. Retirar os espaços em branco do vetor e depois escrever o vetor resultante."
      ]
    },
    {
      "cell_type": "code",
      "metadata": {
        "id": "WcSEYvZOFCFK",
        "colab": {
          "base_uri": "https://localhost:8080/"
        },
        "outputId": "e47fa5eb-000c-4fda-e17f-96191ccf6acc"
      },
      "source": [
        "texto = input('Digite uma frase: ')\n",
        "\n",
        "texto_separado = texto.split()\n",
        "\n",
        "texto_sem_espaco = \"\".join(texto_separado)\n",
        "\n",
        "print(texto_sem_espaco)"
      ],
      "execution_count": null,
      "outputs": [
        {
          "output_type": "stream",
          "text": [
            "Digite uma frase: Malu Vitoria Barbosa de Melo\n",
            "MaluVitoriaBarbosadeMelo\n"
          ],
          "name": "stdout"
        }
      ]
    }
  ]
}