{
  "nbformat": 4,
  "nbformat_minor": 0,
  "metadata": {
    "colab": {
      "name": "Cópia de [E] Aula 06 - Arquivos",
      "provenance": [],
      "collapsed_sections": [],
      "include_colab_link": true
    },
    "kernelspec": {
      "name": "python3",
      "display_name": "Python 3"
    },
    "language_info": {
      "name": "python"
    }
  },
  "cells": [
    {
      "cell_type": "markdown",
      "metadata": {
        "id": "view-in-github",
        "colab_type": "text"
      },
      "source": [
        "<a href=\"https://colab.research.google.com/github/malumelo7/next_mod02-python/blob/main/Aula_06_Arquivos.ipynb\" target=\"_parent\"><img src=\"https://colab.research.google.com/assets/colab-badge.svg\" alt=\"Open In Colab\"/></a>"
      ]
    },
    {
      "cell_type": "markdown",
      "metadata": {
        "id": "tRvcy-qw7juT"
      },
      "source": [
        "<img src=\"https://www.cesar.school/wp-content/uploads/2019/09/marca_cesar_school.png\" alt=\"drawing\" width=\"200\"/>\n",
        "\n",
        "# Python - **Aula 06**\n",
        "\n",
        "---\n",
        "\n",
        "- Arquivos"
      ]
    },
    {
      "cell_type": "markdown",
      "metadata": {
        "id": "bLCeYSaCvWbu"
      },
      "source": [
        "Uma das formas mais eficientes de manter informações salvas é armazenando os dados em arquivo.\n",
        "\n",
        "Além disso, é muito comum que termos a necessidade de fazer a leitura de um arquivo para extrair os dados que vão ser processados.\n",
        "\n",
        "Independente de para qual objeto, em Python é possível fazer a leitura e escrita em arquivos de forma simples e rápida!"
      ]
    },
    {
      "cell_type": "markdown",
      "metadata": {
        "id": "AlSkSWbbvaY-"
      },
      "source": [
        "## Arquivos\n",
        "\n",
        "De forma geral, podemos dizer que existem dois tipos de arquivo:\n",
        "- Arquivos de texto (`.txt`, `.py`, `.html`, `.md`)\n",
        "- Arquivos binários (`.docx`, `.pdf`, `.jpeg`, `.mp3`)\n",
        "\n"
      ]
    },
    {
      "cell_type": "code",
      "metadata": {
        "colab": {
          "base_uri": "https://localhost:8080/"
        },
        "id": "Ot-VborXI8kr",
        "outputId": "333d42c1-3f89-43a5-cbbe-725c807725b0"
      },
      "source": [
        "#Forma de criar antigo de um jeito antigo\n",
        "%%writefile exemplo.txt\n",
        "Esse é um exemplo de arquivo\n",
        "\n",
        "Veja só que coisa"
      ],
      "execution_count": null,
      "outputs": [
        {
          "output_type": "stream",
          "text": [
            "Writing exemplo.txt\n"
          ],
          "name": "stdout"
        }
      ]
    },
    {
      "cell_type": "markdown",
      "metadata": {
        "id": "fdMr3-y0vpy7"
      },
      "source": [
        "## Abrindo um arquivo e modo de abertura\n",
        "\n",
        "Podemos usar a função open() para abrir um arquivo:\n",
        "\n",
        "```python\n",
        "arquivo = open('nomedoarquivo.txt')\n",
        "```\n",
        "\n",
        "Por padrão, os arquivos são abertos no modo de leitura, mas existem vários outros modos possíveis:\n",
        "\n",
        "|   Modo  | Descrição |\n",
        "|---------|-----------|\n",
        "| **'r'** |  **Read** |\n",
        "|   'a'   |   Append  |\n",
        "|   'w'   |   Write   |\n",
        "|   'x'   |   Create  |\n",
        "|    -    |     -     |\n",
        "| **'t'** | **Texto** |\n",
        "|   'b'   |  Binário  |\n",
        "|   '+'   |  Update   |\n",
        "\n",
        "O modo pode ser definido como um segundo parâmetro à função `open()`:\n",
        "\n",
        "O modo write Substitui oq tem\n",
        "```python\n",
        "arquivo = open('nomedoarquivo.txt', 'a')\n",
        "```\n",
        "\n",
        "https://docs.python.org/3/library/functions.html#open"
      ]
    },
    {
      "cell_type": "code",
      "metadata": {
        "id": "VjTFPmmGvsK8",
        "colab": {
          "base_uri": "https://localhost:8080/"
        },
        "outputId": "b2f7e2df-aa22-4865-afba-d6c981be268d"
      },
      "source": [
        "arq = open('teste.erick')\n",
        "print(arq)"
      ],
      "execution_count": null,
      "outputs": [
        {
          "output_type": "stream",
          "text": [
            "<_io.TextIOWrapper name='teste.erick' mode='r' encoding='UTF-8'>\n"
          ],
          "name": "stdout"
        }
      ]
    },
    {
      "cell_type": "markdown",
      "metadata": {
        "id": "Oq_6oiZ6vv9z"
      },
      "source": [
        "## Lendo e Escrevendo\n",
        "\n",
        "### Leitura\n",
        "\n",
        "```python\n",
        "arquivo.read()\n",
        "arquivo.seek(0)\n",
        "arquivo.readline()\n",
        "```\n",
        "\n",
        "```python\n",
        "arquivo = open('nomedoarquivo.txt', 'r')\n",
        "for linha in arquivo:\n",
        "  print(linha)\n",
        "```"
      ]
    },
    {
      "cell_type": "markdown",
      "metadata": {
        "id": "cSnRgqoMRMiX"
      },
      "source": [
        ".read() -> Ler o texto inteiro e deixa o cursor no final\n",
        "\n",
        ".seek(posicao) -> Coloca o cursor na posição que eu escolho\n",
        "\n",
        ".readline() -> Ler a linha de onde tá o cursor"
      ]
    },
    {
      "cell_type": "code",
      "metadata": {
        "id": "PMSSQrEyvx7y",
        "colab": {
          "base_uri": "https://localhost:8080/"
        },
        "outputId": "2dd796ef-27ce-4274-d6aa-84e060631248"
      },
      "source": [
        "arq = open('exemplo.txt')\n",
        "print(arq.read())\n",
        "arq.seek(0)\n",
        "print(arq.readline(), end = '')\n",
        "print(arq.readline(), end = '')\n",
        "print(arq.readline(), end = '')"
      ],
      "execution_count": null,
      "outputs": [
        {
          "output_type": "stream",
          "text": [
            "1.Esse é um exemplo de arquivo\n",
            "2.\n",
            "3.Veja só que coisa\n",
            "1.Esse é um exemplo de arquivo\n",
            "2.\n",
            "3.Veja só que coisa"
          ],
          "name": "stdout"
        }
      ]
    },
    {
      "cell_type": "markdown",
      "metadata": {
        "id": "RXKTLT0kvzxz"
      },
      "source": [
        "### Escrita\n",
        "\n",
        "Para ler um arquivo, é necessário usar como modo `w` ou `r+`:\n",
        "```python\n",
        "arquivo = open('nomearquivo.txt', 'w')\n",
        "arquivo.write('Capitã Marvel, Marvel')\n",
        "```\n",
        "\n",
        "```python\n",
        "arquivo = open('nomearquivo.txt', 'a')\n",
        "arquivo.write('\\nBatman, DC')\n",
        "arquivo.write('\\nHulk, Marvel')\n",
        "```"
      ]
    },
    {
      "cell_type": "code",
      "metadata": {
        "id": "JVVlPiDfv1nN"
      },
      "source": [
        "arquivo = open('herois.txt', 'w')\n",
        "\n",
        "arquivo.write('Batman,DC')\n",
        "arquivo.write('\\nHiperion,Marvel')\n",
        "arquivo.write('\\nRin-tin-tin,20 Fox')\n",
        "arquivo.close()\n",
        "#print(arquivo.readline())\n",
        "#não da pra abrir"
      ],
      "execution_count": null,
      "outputs": []
    },
    {
      "cell_type": "code",
      "metadata": {
        "id": "B3cLK0hiv59J"
      },
      "source": [
        "### Fechamento do arquivo\n",
        "arquivo.close()"
      ],
      "execution_count": null,
      "outputs": []
    },
    {
      "cell_type": "markdown",
      "metadata": {
        "id": "M6CEWMR4v8cT"
      },
      "source": [
        "## Comando `With`\n",
        "\n",
        "Principais vantagens:\n",
        "- Sintaxe mais limpa para a leitura de arquivos;\n",
        "- Abre e fecha o arquivo automaticamente;\n",
        "\n",
        "```python\n",
        "with open('arquivo.txt') as arquivo:\n",
        "  print(arquivo.readline())\n",
        "  print(arquivo.readline())\n",
        "```\n",
        "\n"
      ]
    },
    {
      "cell_type": "code",
      "metadata": {
        "id": "7u0IJyphv-aB",
        "colab": {
          "base_uri": "https://localhost:8080/"
        },
        "outputId": "9fbf9344-5cc6-4ebf-8244-19c9acfe5c44"
      },
      "source": [
        "with open('herois.txt') as arq_herois:\n",
        "  for linha in arq_herois:\n",
        "    print(linha.split(',')[0])"
      ],
      "execution_count": null,
      "outputs": [
        {
          "output_type": "stream",
          "text": [
            "Batman\n",
            "Hiperion\n",
            "Rin-tin-tin\n"
          ],
          "name": "stdout"
        }
      ]
    },
    {
      "cell_type": "markdown",
      "metadata": {
        "id": "z1z5Wv98Psc_"
      },
      "source": [
        "# Exercícios Fundamentais"
      ]
    },
    {
      "cell_type": "markdown",
      "metadata": {
        "id": "eZ_OlH8owCAC"
      },
      "source": [
        "1. Aumente a lista de heróis no arquivo `herois.txt`. Feito isso, crie um programa que leia esse arquivo e crie dois novos arquivos:\n",
        "- Um arquivo apenas com heróis da Marvel;\n",
        "- Outro apenas com heróis da DC."
      ]
    },
    {
      "cell_type": "code",
      "metadata": {
        "id": "ftHZ1zjpwDLQ"
      },
      "source": [
        "lista_dc = []\n",
        "lista_marvel = []\n",
        "\n",
        "# Separando os herois em listas separadas\n",
        "with open('herois.txt') as herois:\n",
        "  for linha in herois:\n",
        "    lista = linha.split(',')\n",
        "    if 'DC' in lista[1]:\n",
        "      lista_dc.append(lista[0])\n",
        "    else:\n",
        "      lista_marvel.append(lista[0])\n",
        "      \n",
        "#Função que escreve as listas no arquivo\n",
        "def escrever_lista_em_arquivo(nome_arq, lista):\n",
        "  with open(nome_arq, 'w') as arq:\n",
        "    for linha in lista:\n",
        "      arq.write(linha + '\\n')\n",
        "\n",
        "escrever_lista_em_arquivo('dc.txt', lista_dc)\n",
        "escrever_lista_em_arquivo('marvel.txt', lista_marvel)\n"
      ],
      "execution_count": null,
      "outputs": []
    },
    {
      "cell_type": "code",
      "metadata": {
        "colab": {
          "base_uri": "https://localhost:8080/"
        },
        "id": "YdjWtyYITECb",
        "outputId": "918e95a5-2c54-4949-ad19-5a3605b1e106"
      },
      "source": [
        "with open('dc.txt', 'w') as dc:\n",
        "  with open('marvel.txt', 'w') as marvel:\n",
        "    with open('herois.txt') as arquivo:\n",
        "      for linha in arquivo:\n",
        "        if 'DC' in linha:\n",
        "          dc.write(linha)\n",
        "        else:\n",
        "          marvel.write(linha)\n",
        "\n",
        "with open('dc.txt') as dc:\n",
        "  print(dc.read())\n",
        "with open('marvel.txt') as marvel:\n",
        "  print(marvel.read())"
      ],
      "execution_count": null,
      "outputs": [
        {
          "output_type": "stream",
          "text": [
            "Batman,DC\n",
            "\n",
            "Hiperion,Marvel\n",
            "Rin-tin-tin,20 Fox\n"
          ],
          "name": "stdout"
        }
      ]
    },
    {
      "cell_type": "markdown",
      "metadata": {
        "id": "5wUzG4G_wF6x"
      },
      "source": [
        "2. Crie um programa que registra as notas de uma pessoa na escola (como o boletim) em um arquivo. Em seguida, leia todos os valores para imprimir o **menor** valor, o **maior** e a **média**.\n",
        "\n",
        "Dica: Se você usar listas, pode usar as funções `min()` e `max()`."
      ]
    },
    {
      "cell_type": "code",
      "metadata": {
        "id": "INq_IgoNwHTX",
        "colab": {
          "base_uri": "https://localhost:8080/"
        },
        "outputId": "fe4ae63d-7f71-4dee-850e-5ceb1e5a8743"
      },
      "source": [
        "# Escrever as notas (é possivel abrir e na hora de receber o input já analisar o min, max e med)\n",
        "with open('notas.txt', 'w') as notas:\n",
        "  for _ in range(4):\n",
        "    notas.write(f\"{input('Insira a nota: ')}\\n\")\n",
        "\n",
        "with open('notas.txt') as notas:\n",
        "  result = []\n",
        "  for linha in notas:\n",
        "    result.append(int(linha))\n",
        "\n",
        "valor_max = max(result)\n",
        "valor_min = min(result)\n",
        "media = sum(result)/len(result)\n",
        "\n",
        "print(f'A maior nota é: {valor_max}')\n",
        "print(f'A menor nota é: {valor_min}')\n",
        "print(f'A média é: {media}')"
      ],
      "execution_count": null,
      "outputs": [
        {
          "output_type": "stream",
          "text": [
            "Insira a nota: 10\n",
            "Insira a nota: 7\n",
            "Insira a nota: 5\n",
            "Insira a nota: 1\n",
            "A maior nota é: 10\n",
            "A menor nota é: 1\n",
            "A média é: 5.75\n"
          ],
          "name": "stdout"
        }
      ]
    },
    {
      "cell_type": "markdown",
      "metadata": {
        "id": "-mVgCguqY_rR"
      },
      "source": [
        "# Exercícios de Aprofundamento"
      ]
    },
    {
      "cell_type": "markdown",
      "metadata": {
        "id": "XgNCMyoF3Axy"
      },
      "source": [
        "3. Faça um programa que leia um arquivo texto contendo uma lista de endereços IP e gere um outro arquivo, contendo um relatório dos endereços IP válidos e inválidos.\n",
        "> Será considerado um IO válido quando nenhuma de suas partes ultrapassar o valor de 255.\n",
        "O arquivo de entrada possui o seguinte formato:\n",
        "\n",
        "```\n",
        "        200.135.80.9\n",
        "        192.168.1.1\n",
        "        8.35.67.74\n",
        "        257.32.4.5\n",
        "        85.345.1.2\n",
        "        1.2.3.4\n",
        "        9.8.234.5\n",
        "        192.168.0.256\n",
        "```\n",
        "- O arquivo de saída possui o seguinte formato:\n",
        "```\n",
        "        [Endereços válidos:]\n",
        "        200.135.80.9\n",
        "        192.168.1.1\n",
        "        8.35.67.74\n",
        "        1.2.3.4\n",
        "        9.8.234.5\n",
        "\n",
        "\n",
        "        [Endereços inválidos:]\n",
        "        257.32.4.5\n",
        "        85.345.1.2\n",
        "        192.168.0.256\n",
        "```"
      ]
    },
    {
      "cell_type": "code",
      "metadata": {
        "id": "2R0gdzmj3bTo",
        "colab": {
          "base_uri": "https://localhost:8080/"
        },
        "outputId": "84e1dd1d-6c58-46f6-a7b7-1251fedc66f5"
      },
      "source": [
        "#Criando arquivo e inserindo ip's\n",
        "with open('ips.txt', 'w') as ips:\n",
        "  ips.write('200.135.80.9\\n')\n",
        "  ips.write('192.168.1.1\\n')\n",
        "  ips.write('8.35.67.74\\n')\n",
        "  ips.write('257.32.4.5\\n')\n",
        "  ips.write('85.345.1.2\\n')\n",
        "  ips.write('1.2.3.4\\n')\n",
        "  ips.write('9.8.234.5\\n')\n",
        "  ips.write('192.168.0.256\\n')\n",
        "\n",
        "#Analisando ip's\n",
        "with open('ips.txt') as ips:\n",
        "  ips_validos = []\n",
        "  ips_invalidos = []\n",
        "\n",
        "  for linha in ips:\n",
        "    linha = linha.replace('\\n', '')\n",
        "    lista_ips = linha.split('.')\n",
        "    lista_ips = list(map(int, lista_ips))\n",
        "    \n",
        "    if int(max(lista_ips)) > 255:\n",
        "      ips_invalidos.append(linha)\n",
        "    else:\n",
        "      ips_validos.append(linha)\n",
        "\n",
        "#Função que escreve as listas no arquivo\n",
        "def escrever_lista_em_arquivo(nome_arq, lista):\n",
        "  with open(nome_arq, 'w') as arq:\n",
        "    for linha in lista:\n",
        "      arq.write(linha + '\\n')\n",
        "\n",
        "\n",
        "escrever_lista_em_arquivo('ips_validos.txt', ips_validos)\n",
        "escrever_lista_em_arquivo('ips_invalidos.txt', ips_invalidos)\n"
      ],
      "execution_count": null,
      "outputs": [
        {
          "output_type": "stream",
          "text": [
            "['200.135.80.9', '192.168.1.1', '8.35.67.74', '1.2.3.4', '9.8.234.5']\n",
            "['257.32.4.5', '85.345.1.2', '192.168.0.256']\n"
          ],
          "name": "stdout"
        }
      ]
    },
    {
      "cell_type": "markdown",
      "metadata": {
        "id": "U6F5uGX53uNL"
      },
      "source": [
        "4. A ACME Inc., uma empresa de 500 funcionários, está tendo problemas de espaço em disco no seu servidor de arquivos. Para tentar resolver este problema, o Administrador de Rede precisa saber qual o espaço ocupado pelos usuários, e identificar os usuários com maior espaço ocupado. Através de um programa, baixado da Internet, ele conseguiu gerar o seguinte arquivo, com o nome dos usuários e seus repectivos consumos em `Bytes` chamado \"usuarios.txt\":\n",
        "```\n",
        "      alexandre       456123789\n",
        "      anderson        1245698456\n",
        "      antonio         123456456\n",
        "      carlos          91257581\n",
        "      cesar           987458\n",
        "      rosemary        789456125\n",
        "```\n",
        "Neste arquivo, o nome do usuário possui 15 caracteres. A partir deste arquivo, você deve criar um programa que gere um relatório, chamado \"relatório.txt\", no seguinte formato:\n",
        "```\n",
        "    ACME Inc.       Uso do espaço em disco pelos usuários\n",
        "\n",
        "    Nr.  Usuário        Espaço utilizado     % do uso\n",
        "\n",
        "    1    alexandre       434,99 MB             16,85%\n",
        "    2    anderson       1187,99 MB             46,02%\n",
        "    3    antonio         117,73 MB              4,56%\n",
        "    4    carlos           87,03 MB              3,37%\n",
        "    5    cesar             0,94 MB              0,04%\n",
        "    6    rosemary        752,88 MB             29,16%\n",
        "\n",
        "    Espaço total ocupado: 2581,57 MB\n",
        "    Espaço médio ocupado: 430,26 MB\n",
        "```\n",
        "O arquivo de entrada deve ser lido uma única vez, e os dados armazenados em memória, caso sejam necessários, de forma a agilizar a execução do programa. A conversão da espaço ocupado em disco, de bytes para megabytes deverá ser feita através de uma função separada, que será chamada pelo programa principal. O cálculo do percentual de uso também deverá ser feito através de uma função, que será chamada pelo programa principal.\n"
      ]
    },
    {
      "cell_type": "markdown",
      "metadata": {
        "id": "BCuOkySjt6o-"
      },
      "source": [
        "1 Megabyte = 1024*1024 = 1048576"
      ]
    },
    {
      "cell_type": "code",
      "metadata": {
        "id": "Xhz7XuvR4q0k",
        "colab": {
          "base_uri": "https://localhost:8080/"
        },
        "outputId": "47bcdca7-da37-4e03-9f93-7c7319fbb9c5"
      },
      "source": [
        "#Criando arquivo\n",
        "%%writefile usuarios.txt\n",
        "alexandre,456123789\n",
        "anderson,1245698456\n",
        "antonio,123456456\n",
        "carlos,91257581\n",
        "cesar,987458\n",
        "rosemary,789456125"
      ],
      "execution_count": null,
      "outputs": [
        {
          "output_type": "stream",
          "text": [
            "Writing usuarios.txt\n"
          ],
          "name": "stdout"
        }
      ]
    },
    {
      "cell_type": "code",
      "metadata": {
        "id": "cT0HBFqRtjHw"
      },
      "source": [
        ""
      ],
      "execution_count": null,
      "outputs": []
    },
    {
      "cell_type": "code",
      "metadata": {
        "id": "L5k6SrF2AivJ"
      },
      "source": [
        "with open('usuarios.txt', 'w+') as usuarios:\n",
        "    usuarios.write('alexandre       456123789\\n')\n",
        "    usuarios.write('anderson        1245698456\\n')\n",
        "    usuarios.write('antonio         123456456\\n')\n",
        "    usuarios.write('carlos          91257581\\n')\n",
        "    usuarios.write('cesar           987458\\n')\n",
        "    usuarios.write('rosemary        789456125')\n",
        "    \n",
        "dados=[ ]\n",
        "nomes=[ ]\n",
        "megab=[ ]\n",
        "porc=[ ]\n",
        "soma=[]\n",
        "media=[]\n",
        "\n",
        "def converter(usuarios,nomes, dados, megab):\n",
        "    with open('usuarios.txt') as usuarios:\n",
        "        for linha in usuarios:\n",
        "            nomes.append(linha.split(linha[16])[0])\n",
        "            dados.append(int(linha.split()[1]))\n",
        "        for n in range(len(dados)):\n",
        "            megab.append(float(\"{0:.2f}\".format(dados[n]/1048576)))\n",
        "def espaco_disco(vetor,porc,soma,media):\n",
        "    soma.append(sum(vetor))\n",
        "    media.append(\"{0:.2f}\".format(sum(vetor)/(len(vetor))))\n",
        "    for i in range(len(vetor)):\n",
        "        porc.append(float(\"{0:.2f}\".format(100*(vetor[i]/(sum(vetor))))))\n",
        "\n",
        "converter('usuarios.txt', nomes, dados, megab)\n",
        "espaco_disco(megab,porc,soma,media)\n",
        "with open('relatorio.txt', 'w+') as relatorio:\n",
        "    relatorio.write('ACME Inc.       Uso do espaço em disco pelos usuários\\n\\n')\n",
        "    relatorio.write('Nr.  Usuário        Espaço utilizado     % do uso\\n\\n')\n",
        "    for i in range(6):\n",
        "        relatorio.write(f'{i+1}    {nomes[i]}{megab[i]} MB             {porc[i]}%\\n')  \n",
        "    relatorio.write(f'\\nEspaço total ocupado: {soma[0]} MB\\n')\n",
        "    relatorio.write(f'Espaço médio ocupado: {media[0]} MB')"
      ],
      "execution_count": null,
      "outputs": []
    },
    {
      "cell_type": "code",
      "metadata": {
        "id": "iwDX6DZhAe3j"
      },
      "source": [
        "# Função para converte byte para mb\n",
        "def byte_mb(bytes):\n",
        "    return ((bytes / 1024) /1024)\n",
        "\n",
        "# Função para o calculo do Percentual\n",
        "def percent(parte, total):\n",
        "    return (parte * 100) / total\n",
        "\n",
        "# tabela para ler o arquivo usuarios.txt\n",
        "acmusuario = []\n",
        "\n",
        "# Processando a leitura do arquvos \n",
        "with open('usuarios.txt','r') as acm: \n",
        "     tot_mbs = 0\n",
        "     for reg in acm:\n",
        "         usu = list(reg.split(' '))\n",
        "         tot_mbs += int(usu[-1])\n",
        "         acmusuario.append( [usu[0], int(usu[-1])  ] )\n",
        "\n",
        "# gerar o arquivo de saida\n",
        "\n",
        "saida = open('relatorio.txt', 'w+')\n",
        "saida.write('ACME Inc.       Uso do espaço em disco pelos usuários\\n\\n')\n",
        "saida.write('Nr.  Usuário        Espaço utilizado     % do uso\\n\\n')\n",
        "\n",
        "tot_usu = len(acmusuario)\n",
        "nr = 0\n",
        "\n",
        "for usu in acmusuario:\n",
        "    nr +=1\n",
        "\n",
        "    saida.write(f'{nr}\\t   {usu[0].ljust(15)} \\t {byte_mb(usu[1]):10.2f} MB   \\t {percent(usu[1],tot_mbs):5.2f}%\\n')\n",
        "\n",
        "media = tot_mbs / tot_usu\n",
        "saida.write(f'\\n\\nEspaço total ocupado: {byte_mb(tot_mbs):.2f} MB\\n')\n",
        "saida.write(f'Espaço médio ocupado: {byte_mb(media):.2f} MB\\n')\n",
        "\n",
        "saida.close()"
      ],
      "execution_count": null,
      "outputs": []
    }
  ]
}