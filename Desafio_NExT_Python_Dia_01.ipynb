{
  "nbformat": 4,
  "nbformat_minor": 0,
  "metadata": {
    "colab": {
      "name": "Cópia de [E] Desafio NExT Python - Dia 01",
      "provenance": [],
      "include_colab_link": true
    },
    "kernelspec": {
      "name": "python3",
      "display_name": "Python 3"
    },
    "language_info": {
      "name": "python"
    }
  },
  "cells": [
    {
      "cell_type": "markdown",
      "metadata": {
        "id": "view-in-github",
        "colab_type": "text"
      },
      "source": [
        "<a href=\"https://colab.research.google.com/github/malumelo7/next_mod02-python/blob/main/Desafio_NExT_Python_Dia_01.ipynb\" target=\"_parent\"><img src=\"https://colab.research.google.com/assets/colab-badge.svg\" alt=\"Open In Colab\"/></a>"
      ]
    },
    {
      "cell_type": "markdown",
      "metadata": {
        "id": "13PxXo-ENFhg"
      },
      "source": [
        "<img src=\"https://www.cesar.school/wp-content/uploads/2019/09/marca_cesar_school.png\" alt=\"drawing\" width=\"200\"/>\n",
        "\n",
        "# Desafio Python - **Dia 01**\n",
        "\n",
        "---\n",
        "\n",
        "- Maratona de Programação\n",
        "- Desafio"
      ]
    },
    {
      "cell_type": "markdown",
      "metadata": {
        "id": "B8ieIvJAt8-h"
      },
      "source": [
        "## Background\n",
        "\n",
        "Bem ... você conseguiu!\n",
        "\n",
        "É hora de deixar de lado os simples exercícios e entrar para as grandes ligas. Bem-vindo ao mundo da programação com Python. Neste desafio, você usará os conceitos que aprendeu durante todo o segundo modulo do NExT sobre Python. Os desafios abordados aqui abrangem uma situação do mundo real onde suas novas habilidades de script Python podem ser úteis. Esses desafios estão longe de ser fáceis, então espere muito trabalho pela frente!\n"
      ]
    },
    {
      "cell_type": "markdown",
      "metadata": {
        "id": "Jw_9UsK_ujH2"
      },
      "source": [
        "## PyFinanceiro\n",
        "\n",
        "* Neste desafio, você tem a tarefa de criar um script Python para analisar os registros financeiros de sua empresa. Você fornecerá um conjunto de dados financeiros chamado [dados_financeiros.txt](https://drive.google.com/file/d/1g4A0DkMdGxwv9JSGO32DYqvPby45pIHG/view?usp=sharing). O conjunto de dados é composto por duas colunas: `Data` e `Lucros/Perdas`, separados por virgula. (Felizmente, sua empresa tem padrões bastante flexíveis para a contabilidade, então os registros são simples.)\n",
        "\n",
        "* Sua tarefa é criar um script Python que analise os registros para calcular cada um das seguintes informações:\n",
        "\n",
        "  * O número total de meses incluídos no conjunto de dados\n",
        "\n",
        "  * O valor total líquido de \"Lucros / Perdas\" durante todo o período\n",
        "\n",
        "  * A média dos \"Lucros / Perdas\" durante todo o período\n",
        "\n",
        "  * A média das mudanças em \"Lucros / Perdas\" durante todo o período\n",
        "\n",
        "  * O maior aumento nos lucros (data e valor) durante todo o período\n",
        "\n",
        "  * A maior redução nas perdas (data e valor) ao longo de todo o período\n",
        "\n",
        "* Por exemplo, sua análise deve ser semelhante a esta abaixo:\n",
        "\n",
        "``` text\n",
        "Analise financeira\n",
        "----------------------------\n",
        "Total de meses: 86\n",
        "Total: $ 38382578\n",
        "Média: $ 446309,04\n",
        "Variação da média: $ -2315,12\n",
        "Maior aumento nos lucros: fevereiro de 2012 ($ 1926159)\n",
        "Maior redução nos lucros: setembro de 2013 ($ -2196167)\n",
        "```\n",
        "\n",
        "* Além disso, seu script final deve imprimir a análise no terminal e exportar um arquivo de texto `relatório.txt` com os resultados."
      ]
    },
    {
      "cell_type": "code",
      "metadata": {
        "id": "1oJteigyuqBm"
      },
      "source": [
        "def main():\n",
        "  meses = []\n",
        "  lucros = []\n",
        "  mudancas = []\n",
        "  lista_temp = []\n",
        "\n",
        "  with open('dados_financeiro.txt') as dados:\n",
        "    for linha in dados.readlines()[1:]:\n",
        "      \n",
        "      #Distribuindo dados na lista\n",
        "      meses.append(linha.split(',')[0])\n",
        "      lucros.append(int(linha.split(',')[1]))\n",
        "\n",
        "  #Preenchendo lista de mudancas\n",
        "  pos_lucro = 1\n",
        "  for pos_lucro in range(1, len(lucros)):\n",
        "    mudancas.append(lucros[pos_lucro] - lucros[pos_lucro - 1])\n",
        "    \n",
        "  #Calculando variáveis\n",
        "  total_meses = calcula_total_meses(meses)\n",
        "  total_lucros = calcula_total_lucros(lucros)\n",
        "  media_lucros = calcula_media(lucros)\n",
        "  media_mudancas = calcula_media(mudancas)\n",
        "    \n",
        "  maior_valor_aumento_mudanca = maior_aumento_mudanca(mudancas)\n",
        "  pos_maior_valor_aumento_mudanca = mudancas.index(maior_valor_aumento_mudanca) + 1\n",
        "  data_maior_valor_aumento_mudanca = meses[pos_maior_valor_aumento_mudanca]\n",
        "    \n",
        "  maior_valor_reducao_mudanca = maior_reducao_mudanca(mudancas)\n",
        "  pos_maior_valor_reducao_mudanca = mudancas.index(maior_valor_reducao_mudanca) + 1\n",
        "  data_maior_valor_reducao_mudanca = meses[pos_maior_valor_reducao_mudanca]\n",
        "\n",
        "  #Escrevendo dados no arquivo 'resultados_analise.txt'\n",
        "  with open('resultados_analise.txt', 'w') as analise:\n",
        "    print('Análise Financeira', file = analise)\n",
        "    print('-'*20, file = analise)\n",
        "    print(f'Total de meses: {total_meses}', file = analise)\n",
        "    print(f'Total: $ {total_lucros}', file = analise)\n",
        "    print(f'Média: $ {media_lucros:.2f}', file = analise)\n",
        "    print(f'Variação da média: $ {media_mudancas:.2f}', file = analise)\n",
        "    print(f'Maior aumento nos lucros: {data_maior_valor_aumento_mudanca} ($ {maior_valor_aumento_mudanca})', file = analise)\n",
        "    print(f'Maior redução nos lucros: {data_maior_valor_reducao_mudanca} ($ {maior_valor_reducao_mudanca})', file = analise)\n",
        "\n",
        "#Funcoes que calcula dados\n",
        "def calcula_total_meses(meses):\n",
        "  return len(meses)\n",
        "\n",
        "def calcula_total_lucros(lucros):\n",
        "  return sum(lucros)\n",
        "\n",
        "def calcula_media(lista):\n",
        "  return sum(lista)/len(lista)\n",
        "\n",
        "def maior_aumento_mudanca(mudancas):\n",
        "  return max(mudancas)\n",
        "\n",
        "def maior_reducao_mudanca(mudancas):\n",
        "  return min(mudancas)\n",
        "\n",
        "if __name__ == '__main__':\n",
        "  main()"
      ],
      "execution_count": null,
      "outputs": []
    },
    {
      "cell_type": "code",
      "metadata": {
        "colab": {
          "base_uri": "https://localhost:8080/"
        },
        "id": "GYU4b4Pratzg",
        "outputId": "d818b63d-6f07-402e-e80c-b81b7c9e2d31"
      },
      "source": [
        "#Resultado Erick\n",
        "data = []\n",
        "lp = []\n",
        "\n",
        "with open('dados_financeiro.txt') as dados:\n",
        "  for linha in dados.readlines()[1:]:\n",
        "    data.append(linha.split(',')[0]) \n",
        "    lp.append(int(linha.split(',')[1]))\n",
        "\n",
        "total_meses = len(data)\n",
        "total = sum(lp)\n",
        "print('media', total/total_meses)\n",
        "\n",
        "variacao = []\n",
        "i = 0\n",
        "while i < len(lp) - 1:\n",
        "  variacao.append(lp[i + 1] - lp[i])\n",
        "  i+=1\n",
        "\n",
        "print('variacao media', sum(variacao)/len(variacao))\n",
        "print(data[variacao.index(max(variacao)) + 1], max(variacao))\n",
        "print(data[variacao.index(min(variacao)) + 1], min(variacao))\n",
        "\n",
        "with open('financeiro_resultados.txt', 'w') as result:\n",
        "  print(f'Total de meses {total_meses}', file=result)"
      ],
      "execution_count": null,
      "outputs": [
        {
          "output_type": "stream",
          "text": [
            "media 446309.0465116279\n",
            "variacao media -2315.1176470588234\n",
            "Feb-2012 1926159\n",
            "Sep-2013 -2196167\n"
          ],
          "name": "stdout"
        }
      ]
    },
    {
      "cell_type": "markdown",
      "metadata": {
        "id": "nxqD-1kJuqOV"
      },
      "source": [
        "## PyVotação\n",
        "\n",
        "* Neste desafio, você tem a tarefa de ajudar uma pequena cidade rural a modernizar seu processo de contagem de votos. (Até agora, o tio Cleiton vinha contando-os um por um com confiança, mas, infelizmente, sua concentração não é o que costumava ser.)\n",
        "\n",
        "* Você receberá um conjunto de dados de enquete chamado [dados_eleção.txt](https://drive.google.com/file/d/13tarkZMlfvMcHnS8K49pdF-GMYOwgggg/view?usp=sharing). O conjunto de dados é composto por três colunas: `ID do eleitor`,` Município` e `Candidato`. Sua tarefa é criar um script Python que analise os votos e calcule cada uma das seguintes informações:\n",
        "\n",
        "  * O número total de votos expressos\n",
        "\n",
        "  * Uma lista completa de candidatos que receberam votos\n",
        "\n",
        "  * A porcentagem de votos que cada candidato ganhou\n",
        "\n",
        "  * O número total de votos que cada candidato ganhou\n",
        "\n",
        "  * O vencedor da eleição com base no voto popular.\n",
        "\n",
        "* Por exemplo, sua análise deve ser semelhante a esta abaixo:\n",
        "\n",
        "  ```text\n",
        "  Resultados eleitorais\n",
        "  -------------------------\n",
        "  Total de votos: 3521001\n",
        "  -------------------------\n",
        "  Khan: 63.0% (2218231)\n",
        "  Correy: 20.0% (704200)\n",
        "  Li: 14.0% (492940)\n",
        "  O'Tooley: 3.0% (105630)\n",
        "  -------------------------\n",
        "  Vencedor: Khan\n",
        "  -------------------------\n",
        "  ```\n",
        "\n",
        "* Além disso, seu script final deve imprimir a análise no terminal e exportar um arquivo de texto `resultado.txt` com os resultados."
      ]
    },
    {
      "cell_type": "code",
      "metadata": {
        "id": "sRGvaFwIvA1e",
        "colab": {
          "base_uri": "https://localhost:8080/"
        },
        "outputId": "802cddde-fa1d-426c-b45b-54fe60770301"
      },
      "source": [
        "def main():\n",
        "  votos_candidatos = []\n",
        "\n",
        "  with open('dados_eleicao.txt') as dados:\n",
        "    for linha in dados.readlines()[1:]:\n",
        "      votos_candidatos.append(linha.replace('\\n', '').split(',')[2])\n",
        "\n",
        "  candidatos = set(votos_candidatos)\n",
        "  \n",
        "  for candidato in candidatos:\n",
        "    print(candidato, votos_candidatos.count(candidato))\n",
        "\n",
        "  print(len(candidatos))\n",
        "\n",
        "\n",
        "\n",
        "\n",
        "\n",
        "\n",
        "\n",
        "if __name__ == '__main__':\n",
        "  main()"
      ],
      "execution_count": null,
      "outputs": [
        {
          "output_type": "stream",
          "text": [
            "Khan 30\n",
            "O'Tooley 1\n",
            "Correy 13\n",
            "Li 3\n",
            "4\n"
          ],
          "name": "stdout"
        }
      ]
    },
    {
      "cell_type": "markdown",
      "metadata": {
        "id": "gvXwqNCbvDil"
      },
      "source": [
        "## Dicas e considerações\n",
        "\n",
        "* Considere o que aprendemos até agora. Até agora, aprendemos como lidar com arquivos; para ler e gravar arquivos em vários formatos; para armazenar conteúdos em variáveis, listas e dicionários; para iterar por meio de estruturas de dados básicas; e depurar ao longo do caminho. Usando o que aprendemos, tente dividir suas tarefas em mini-objetivos discretos (funções). Este será um _muito_ melhor desafio de ação do que os exercícios feitos em sala de aula.\n",
        "\n",
        "* Como você descobrirá, para alguns desses desafios, os conjuntos de dados são bastante grandes. Isso foi feito propositalmente, pois mostra um dos limites da análise baseada em Python. Embora nosso primeiro instinto, como analistas de dados, muitas vezes seja ir direto para o Excel, a criação de scripts em Python pode nos fornecer opções mais robustas para lidar com \"big data\".\n",
        "\n",
        "* Seus scripts devem funcionar para cada conjunto de dados fornecido. Execute seu script para cada conjunto de dados separadamente para garantir que o código funcione para dados diferentes.\n",
        "\n",
        "* Sinta-se encorajado a trabalhar em grupos, mas não se engane copiando o trabalho de outra pessoa. Você consegue o que investe, e a arte da programação é extremamente implacável para os moochers. Construa seu próprio conhecimento, queime os neurônios e aprenda isso enquanto você pode! Essas são habilidades que renderão bons ganhos em sua carreira futura.\n",
        "\n",
        "* Comece cedo e peça ajuda com frequência! Desafie-se a identificar perguntas _específicas_ para seus professores. Não se resigne a simplesmente dizer: \"Estou totalmente perdido\". Venha preparado para mostrar seu esforço e padrões de pensamento, ficaremos felizes em ajudar ao longo do caminho.\n",
        "\n",
        "* Sempre comprometa seu trabalho e faça backups constantes (salve). Você não quer perder horas de seu trabalho porque não salvou o seu projeto a cada meia hora ou algo assim.\n",
        "\n",
        "  * ** Boa Sorte **."
      ]
    }
  ]
}