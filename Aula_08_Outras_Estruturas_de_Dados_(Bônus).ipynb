{
  "nbformat": 4,
  "nbformat_minor": 0,
  "metadata": {
    "colab": {
      "name": "Cópia de [E] Aula 08 - Outras Estruturas de Dados (Bônus).ipynb",
      "provenance": [],
      "collapsed_sections": [],
      "include_colab_link": true
    },
    "kernelspec": {
      "name": "python3",
      "display_name": "Python 3"
    }
  },
  "cells": [
    {
      "cell_type": "markdown",
      "metadata": {
        "id": "view-in-github",
        "colab_type": "text"
      },
      "source": [
        "<a href=\"https://colab.research.google.com/github/malumelo7/next_mod02-python/blob/main/Aula_08_Outras_Estruturas_de_Dados_(B%C3%B4nus).ipynb\" target=\"_parent\"><img src=\"https://colab.research.google.com/assets/colab-badge.svg\" alt=\"Open In Colab\"/></a>"
      ]
    },
    {
      "cell_type": "markdown",
      "metadata": {
        "id": "Qw9BwNbNQ_qg"
      },
      "source": [
        "# Aula 06 - Outros tipos de dados\n",
        "\n",
        "Além de números, booleanos, strings, existem vários outros tipos de dados em Python. Compondo o conjunto de _containers_ de dados, junto a listas (`list`), há também:\n",
        "- Tuplas\n",
        "- Dicionários\n",
        "- Sets"
      ]
    },
    {
      "cell_type": "markdown",
      "metadata": {
        "id": "FRwoZs4ZRiq9"
      },
      "source": [
        "## Tuplas\n",
        "\n",
        "Ao usar listas, há bastante liberdade para alterar seus itens. Em determinadas situções, essas listas não deveriam ser alteradas, tais como:\n",
        "- Dias da semana;\n",
        "- Naipes de um baralho;\n",
        "\n",
        "Para essas situações podemos usar `Tuplas`, que são estruturas de dados imutáveis:\n",
        "\n",
        "```python\n",
        "t = ('domingo', 'segunda', 'terça', 'quarta', 'quinta', 'sexta', 'sábado')\n",
        "```\n",
        "\n",
        "Obs.: *O acesso aos elementos da tupla é feito da mesma forma que com listas*"
      ]
    },
    {
      "cell_type": "code",
      "metadata": {
        "id": "Tr-xxjySQ8qp",
        "colab": {
          "base_uri": "https://localhost:8080/",
          "height": 367
        },
        "outputId": "ec2197d1-f2ed-4383-e4cf-74854001e3eb"
      },
      "source": [
        "# Criação de uma Tupla\n",
        "l = [1, 2, 3] # isso é uma lista\n",
        "t = 'dom', 'seg', 'ter', 'quar', 'quin', 'sex', 'sab', 'sex' # isso é uma tupla\n",
        "t2 = 15, # isso também é uma tupla\n",
        "t3 = () # isso é uma tupla vazia\n",
        "t4 = tuple() # tupla vazia através de um construtor\n",
        "print(type(l))\n",
        "print(type(t))\n",
        "print(type(t2))\n",
        "print(type(t3))\n",
        "print(type(t4))\n",
        "\n",
        "# Acesso aos elementos de uma Tupla\n",
        "print(t[-1])\n",
        "print(t[2])\n",
        "\n",
        "# len()\n",
        "print(len(t))\n",
        "\n",
        "# tupla.index(item)\n",
        "print(t.index('sex'))\n",
        "\n",
        "# tupla.count(item)\n",
        "print(t.count('sex'))\n",
        "\n",
        "# Imutabilidade\n",
        "l.append('oi')    # em uma lista é possível adicionar um elemento\n",
        "#t.remove('sex')  # em uma tupla esse mesmo método gera um erro\n"
      ],
      "execution_count": null,
      "outputs": [
        {
          "output_type": "stream",
          "text": [
            "<class 'list'>\n",
            "<class 'tuple'>\n",
            "<class 'tuple'>\n",
            "<class 'tuple'>\n",
            "<class 'tuple'>\n",
            "sex\n",
            "ter\n",
            "8\n",
            "5\n",
            "2\n"
          ],
          "name": "stdout"
        },
        {
          "output_type": "error",
          "ename": "AttributeError",
          "evalue": "ignored",
          "traceback": [
            "\u001b[0;31m---------------------------------------------------------------------------\u001b[0m",
            "\u001b[0;31mAttributeError\u001b[0m                            Traceback (most recent call last)",
            "\u001b[0;32m<ipython-input-2-40fbaa747d66>\u001b[0m in \u001b[0;36m<module>\u001b[0;34m()\u001b[0m\n\u001b[1;32m     26\u001b[0m \u001b[0;31m# Imutabilidade\u001b[0m\u001b[0;34m\u001b[0m\u001b[0;34m\u001b[0m\u001b[0;34m\u001b[0m\u001b[0m\n\u001b[1;32m     27\u001b[0m \u001b[0ml\u001b[0m\u001b[0;34m.\u001b[0m\u001b[0mappend\u001b[0m\u001b[0;34m(\u001b[0m\u001b[0;34m'oi'\u001b[0m\u001b[0;34m)\u001b[0m    \u001b[0;31m# em uma lista é possível adicionar um elemento\u001b[0m\u001b[0;34m\u001b[0m\u001b[0;34m\u001b[0m\u001b[0m\n\u001b[0;32m---> 28\u001b[0;31m \u001b[0mt\u001b[0m\u001b[0;34m.\u001b[0m\u001b[0mremove\u001b[0m\u001b[0;34m(\u001b[0m\u001b[0;34m'sex'\u001b[0m\u001b[0;34m)\u001b[0m\u001b[0;34m\u001b[0m\u001b[0;34m\u001b[0m\u001b[0m\n\u001b[0m",
            "\u001b[0;31mAttributeError\u001b[0m: 'tuple' object has no attribute 'remove'"
          ]
        }
      ]
    },
    {
      "cell_type": "markdown",
      "metadata": {
        "id": "RCKhlNzcWyxM"
      },
      "source": [
        "## Set (*conjunto*)\n",
        "\n",
        "Tanto em **listas**, quanto em **tuplas**, é possível ter elementos repetidos:\n",
        "\n",
        "```python\n",
        "t = 0, 1, 1, 2, 3, 5\n",
        "l = [0, 1, 1, 2, 3, 5]\n",
        "```\n",
        "\n",
        "Quanto houver uma situação onde você não deva armazenar itens repetidos numa lista, é possível usar um `set`:\n",
        "\n",
        "```python\n",
        "s = set()\n",
        "s.add(1)\n",
        "s.add(2)\n",
        "s.add(1)\n",
        "```"
      ]
    },
    {
      "cell_type": "code",
      "metadata": {
        "id": "yVvINWfFYMOp",
        "colab": {
          "base_uri": "https://localhost:8080/",
          "height": 35
        },
        "outputId": "8b9c28e7-99df-4cbc-a4c3-dcdcdc84a579"
      },
      "source": [
        "s = set()\n",
        "s.add(1)\n",
        "s.add('chuva')\n",
        "s.add(1) # o set não gera um erro se você tentar adicionar um elemento que já exista, mas vai apenas ignora-lo\n",
        "s.add('1')\n",
        "s.add('1')\n",
        "print(s)"
      ],
      "execution_count": null,
      "outputs": [
        {
          "output_type": "stream",
          "text": [
            "{1, 'chuva', '1'}\n"
          ],
          "name": "stdout"
        }
      ]
    },
    {
      "cell_type": "markdown",
      "metadata": {
        "id": "O26eeey2Ywur"
      },
      "source": [
        "## Dicionários\n",
        "\n",
        "Para criar estruturas de dados que são mapeados por valores (e não pelo indice, como nas listas) é possível usar um dicionário.\n",
        "\n",
        "> **Chave** x **Valor**\n",
        "\n",
        "Obs.: *O mapeamento é feito pela chave (e não pela ordem)*\n",
        "\n",
        "Exemplos de uso prático:\n",
        "- Dicionários;\n",
        "- CEP;\n",
        "\n",
        "```python\n",
        "dicionario = {'chave': 'valor1', 'chave2': 'valor2'}\n",
        "```"
      ]
    },
    {
      "cell_type": "code",
      "metadata": {
        "id": "TVKwpY7eacqD",
        "colab": {
          "base_uri": "https://localhost:8080/",
          "height": 72
        },
        "outputId": "a4cd39fa-837c-4546-b783-70faae9dd71f"
      },
      "source": [
        "# Criando um dicionário\n",
        "dicionario = {'dog':'cão', 'cat':'gato', 'lion':'leâo'}\n",
        "#d = dict() # também é possível criar um dicionário usando seu contrutor dict()\n",
        "\n",
        "# Acessando elementos de um dicionário\n",
        "print(dicionario['cat'])\n",
        "print(dicionario['lion'])\n",
        "\n",
        "# Adição de itens por atribuição\n",
        "dicionario['giraffe'] = 'girafa'\n",
        "dicionario['dog'] = 'cachorro'\n",
        "print(dicionario)\n"
      ],
      "execution_count": null,
      "outputs": [
        {
          "output_type": "stream",
          "text": [
            "gato\n",
            "leâo\n",
            "{'dog': 'cachorro', 'cat': 'gato', 'lion': 'leâo', 'giraffe': 'girafa'}\n"
          ],
          "name": "stdout"
        }
      ]
    },
    {
      "cell_type": "markdown",
      "metadata": {
        "id": "CofLZbPqa_td"
      },
      "source": [
        "### Alguns métodos úteis de dicionários:\n",
        "\n",
        "- dict.keys() - Apresenta todas as chaves do dicionário\n",
        "- dict.values() - Apresenta todos os valores do dicionário\n",
        "- dict.items() - dict_keys() + dict_values()"
      ]
    },
    {
      "cell_type": "code",
      "metadata": {
        "id": "4vv8j_fMbg5O",
        "colab": {
          "base_uri": "https://localhost:8080/",
          "height": 90
        },
        "outputId": "73facd11-226f-4b13-ad52-2bb13670edb4"
      },
      "source": [
        "# keys()\n",
        "print(dicionario.keys())\n",
        "\n",
        "# values()\n",
        "print(dicionario.values())\n",
        "\n",
        "# items()\n",
        "print(dicionario.items())\n",
        "\n",
        "# for\n",
        "for item in dicionario.items():\n",
        "  print(item[0], '-' ,item[1], end=' | ')"
      ],
      "execution_count": null,
      "outputs": [
        {
          "output_type": "stream",
          "text": [
            "dict_keys(['dog', 'cat', 'lion', 'giraffe'])\n",
            "dict_values(['cachorro', 'gato', 'leâo', 'girafa'])\n",
            "dict_items([('dog', 'cachorro'), ('cat', 'gato'), ('lion', 'leâo'), ('giraffe', 'girafa')])\n",
            "dog - cachorro | cat - gato | lion - leâo | giraffe - girafa | "
          ],
          "name": "stdout"
        }
      ]
    },
    {
      "cell_type": "markdown",
      "metadata": {
        "id": "7PqUFwi8cked"
      },
      "source": [
        "# Exercícios"
      ]
    },
    {
      "cell_type": "markdown",
      "metadata": {
        "id": "Ym_ueEj9cmd-"
      },
      "source": [
        "## 1 - Dada a lista a seguir, crie uma segunda lista apenas com os itens na mesma ordem mas sem repetição.\n",
        "```python\n",
        "l = [1, 3, 2, 3, 4, 5, 1, 5, 7, 6, 8, 3, 4]\n",
        "```"
      ]
    },
    {
      "cell_type": "code",
      "metadata": {
        "id": "3xpxJ73lxpVM",
        "colab": {
          "base_uri": "https://localhost:8080/",
          "height": 35
        },
        "outputId": "9c04639f-e291-459d-c383-06caf93d86c7"
      },
      "source": [
        "l = [1, 3, 2, 3, 4, 5, 1, 5, 7, 6, 8, 3, 4]\n",
        "s = set()\n",
        "\n",
        "for item in l:\n",
        "  s.add(item)\n",
        "\n",
        "print(s)"
      ],
      "execution_count": null,
      "outputs": [
        {
          "output_type": "stream",
          "text": [
            "{1, 2, 3, 4, 5, 6, 7, 8}\n"
          ],
          "name": "stdout"
        }
      ]
    },
    {
      "cell_type": "code",
      "metadata": {
        "colab": {
          "base_uri": "https://localhost:8080/"
        },
        "id": "Czr0BzpjW_6y",
        "outputId": "dca929f8-2ffc-47f6-90b8-e51433099eee"
      },
      "source": [
        "l = [1, 3, 2, 3, 4, 5, 1, 5, 7, 6, 8, 3, 4]\n",
        "s = set(l)\n",
        "\n",
        "print(s)"
      ],
      "execution_count": null,
      "outputs": [
        {
          "output_type": "stream",
          "text": [
            "{1, 2, 3, 4, 5, 6, 7, 8}\n"
          ],
          "name": "stdout"
        }
      ]
    },
    {
      "cell_type": "markdown",
      "metadata": {
        "id": "0mjUILCpdNK6"
      },
      "source": [
        "## 2 - Cosntrua um dicionário para mapear o número do CEP dos seus colegas para o endereço da casa de cada um. Faça também um programa no qual o usuário insere o número do CEP e recebe como resposta o endereço."
      ]
    },
    {
      "cell_type": "code",
      "metadata": {
        "id": "bVZKQOT9dMuZ"
      },
      "source": [
        "entrada = ''\n",
        "ceps = {}\n",
        "\n",
        "while entrada != '3':\n",
        "  entrada = input('1 - para inserir\\n2 - para buscar\\n3 - para sair\\n')\n",
        "\n",
        "  if entrada == '1':\n",
        "    cep = input('Digite o CEP: ')\n",
        "    endereco = input('Digite o endereço: ')\n",
        "    ceps[cep] = endereco\n",
        "  elif entrada == '2':\n",
        "    cep = input('Digite o CEP que você está buscando: ')\n",
        "    print(ceps[cep])\n"
      ],
      "execution_count": null,
      "outputs": []
    }
  ]
}