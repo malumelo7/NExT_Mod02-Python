{
  "nbformat": 4,
  "nbformat_minor": 0,
  "metadata": {
    "colab": {
      "name": "Cópia de [E] Aula 05 - Funções.ipynb",
      "provenance": [],
      "collapsed_sections": [],
      "include_colab_link": true
    },
    "kernelspec": {
      "name": "python3",
      "display_name": "Python 3"
    },
    "language_info": {
      "name": "python"
    }
  },
  "cells": [
    {
      "cell_type": "markdown",
      "metadata": {
        "id": "view-in-github",
        "colab_type": "text"
      },
      "source": [
        "<a href=\"https://colab.research.google.com/github/malumelo7/next_mod02-python/blob/main/Aula_05_Fun%C3%A7%C3%B5es.ipynb\" target=\"_parent\"><img src=\"https://colab.research.google.com/assets/colab-badge.svg\" alt=\"Open In Colab\"/></a>"
      ]
    },
    {
      "cell_type": "markdown",
      "metadata": {
        "id": "tRvcy-qw7juT"
      },
      "source": [
        "<img src=\"https://www.cesar.school/wp-content/uploads/2019/09/marca_cesar_school.png\" alt=\"drawing\" width=\"200\"/>\n",
        "\n",
        "# Python - **Aula 05**\n",
        "\n",
        "---\n",
        "\n",
        "- Funções"
      ]
    },
    {
      "cell_type": "markdown",
      "metadata": {
        "id": "FgyHxW3DZWcz"
      },
      "source": [
        "# Funções"
      ]
    },
    {
      "cell_type": "markdown",
      "metadata": {
        "id": "h5TpNll7b3B7"
      },
      "source": [
        "Desde que começamos a programar em Python temos descoberto várias funções da linguagem:\n",
        "- `print()`\n",
        "- `len()`\n",
        "- `del()`\n",
        "\n",
        "e também várias funções de tipos específicos de dados:\n",
        "- `str.lower()`\n",
        "- `lista.append()`\n",
        "\n",
        "Essas funções são implementadas pela própria linguagem e executam tarefas específicas. Graças a elas economizamos muito tempo, tendo em vista que não só já foram implementadas, mas também foram testadas e validadas por toda a comunidade que usa a Python.\n",
        "\n",
        "Nesta aula aprenderemos a escrever nossas próprias funções!"
      ]
    },
    {
      "cell_type": "markdown",
      "metadata": {
        "id": "Lipq6fSIIVzm"
      },
      "source": [
        "## Definindo uma função\n",
        "\n",
        "Para definir uma função, ou seja, implementa-la, é necessário usar o comando `def` seguido do nome da função, uma par de parênteses e dois pontos:\n",
        "\n",
        "```python\n",
        "def boas_vindas():\n",
        "  print('Bem-vindo(a) à CESAR School!')\n",
        "```\n",
        "\n",
        "Para executar a função, basta chama-la por sua assinatura:\n",
        "\n",
        "```python\n",
        "boas_vindas()\n",
        "```"
      ]
    },
    {
      "cell_type": "code",
      "metadata": {
        "id": "Dv6RnOgyIsyO",
        "colab": {
          "base_uri": "https://localhost:8080/"
        },
        "outputId": "389faf92-9287-4797-bedd-4acc8d7d6907"
      },
      "source": [
        "def boas_vindas():\n",
        "  print('Bem-vindo(a) à CESAR School')\n",
        "\n",
        "boas_vindas()"
      ],
      "execution_count": null,
      "outputs": [
        {
          "output_type": "stream",
          "text": [
            "Bem-vindo(a) à CESAR School\n"
          ],
          "name": "stdout"
        }
      ]
    },
    {
      "cell_type": "markdown",
      "metadata": {
        "id": "jRDwgve5ItNu"
      },
      "source": [
        "## Passando parâmetros para as funções\n",
        "\n",
        "Várias funções que conhecemos recebem parâmetros. Também podemos fazer isso da seguinte forma:\n",
        "\n",
        "```python\n",
        "def boas_vindas(nome_usuario):\n",
        "  print(f'Bem-vindo(a) {nome_usuario} à CESAR School!')\n",
        "```"
      ]
    },
    {
      "cell_type": "code",
      "metadata": {
        "id": "hy0H-ONQI7na",
        "colab": {
          "base_uri": "https://localhost:8080/"
        },
        "outputId": "128938f2-26ac-44ba-97d0-7b86af9e81e1"
      },
      "source": [
        "# exemplo boas_vindas()\n",
        "def boas_vindas(nome_usuario):\n",
        "  print(f'Bem-vindo(a) {nome_usuario} ao CESAR!')\n",
        "\n",
        "# exemplo filme_favorito() // Um dos meus filmes favoritos é [nome_do_filme]\n",
        "def filme_favorito(nome_do_filme):\n",
        "  print(f'Um dos meus filmes favoritos é {nome_do_filme}')\n",
        "\n",
        "# exemplo soma()\n",
        "def soma(num1,num2):\n",
        "  return print(num1+num2)\n",
        "\n",
        "\n",
        "boas_vindas('Malu')\n",
        "filme_favorito('Vida de Inseto')\n",
        "soma(1, 3)"
      ],
      "execution_count": null,
      "outputs": [
        {
          "output_type": "stream",
          "text": [
            "Bem-vindo(a) Malu ao CESAR!\n",
            "Um dos meus filmes favoritos é Vida de Inseto\n",
            "4\n"
          ],
          "name": "stdout"
        }
      ]
    },
    {
      "cell_type": "markdown",
      "metadata": {
        "id": "b23YBQFiJGRu"
      },
      "source": [
        "## Argumentos posicionais e nomeados\n",
        "\n",
        "- Posicional: Quando são passados na mesma ordem dos parâmetros\n",
        "- Nomeados: Um par nome-valor passados para a função\n",
        "\n",
        "```python\n",
        "# V = d/t\n",
        "def velocidade(distancia, tempo):\n",
        "  print(distancia/tempo)\n",
        "```"
      ]
    },
    {
      "cell_type": "code",
      "metadata": {
        "id": "DMmNAEP9JOyu",
        "colab": {
          "base_uri": "https://localhost:8080/"
        },
        "outputId": "9b6f0760-d245-4cf1-8738-b8751454278b"
      },
      "source": [
        "def velo(dist, temp):\n",
        "  print(dist/temp)\n",
        "\n",
        "# posicional\n",
        "velo(10,2)\n",
        "\n",
        "# nomeado\n",
        "velo(temp=2, dist=10)\n"
      ],
      "execution_count": null,
      "outputs": [
        {
          "output_type": "stream",
          "text": [
            "5.0\n",
            "5.0\n"
          ],
          "name": "stdout"
        }
      ]
    },
    {
      "cell_type": "markdown",
      "metadata": {
        "id": "21DC9QeGJVt2"
      },
      "source": [
        "## Valores predefinidos (default)\n",
        "\n",
        "```python\n",
        " print(*objects, sep=' ', end='\\n', file=sys.stdout, flush=False)\n",
        "```\n",
        "\n",
        "> *Mais detalhes sobre o print [aqui](https://docs.python.org/3/library/functions.html#print).*"
      ]
    },
    {
      "cell_type": "code",
      "metadata": {
        "id": "uiWByYm5KgOu",
        "colab": {
          "base_uri": "https://localhost:8080/"
        },
        "outputId": "f07a5570-5f79-4073-abc7-7a514123db79"
      },
      "source": [
        "# print('oi', end='-')\n",
        "print(10, 20, 30, sep = ' X ', end = 'Fim\\n')\n",
        "\n",
        "# velocidade (parâmetros default)\n",
        "def velo(dist, temp = 2):\n",
        "  print(dist/temp)\n",
        "\n",
        "velo(5, 8)\n",
        "velo(4)"
      ],
      "execution_count": null,
      "outputs": [
        {
          "output_type": "stream",
          "text": [
            "10 X 20 X 30Fim\n",
            "0.625\n",
            "2.0\n"
          ],
          "name": "stdout"
        }
      ]
    },
    {
      "cell_type": "markdown",
      "metadata": {
        "id": "wxMB_--7Kq1J"
      },
      "source": [
        "## Retornando Valores\n",
        "\n",
        "Para que uma função possa devolver um valor para sua chamada, usamos a palavra reservada `return`.\n",
        "\n",
        "> Obs.: Depois que o comando `return` é alcançado, a função é finalizada. Qualquer código após o `return` é inalcançãvel."
      ]
    },
    {
      "cell_type": "code",
      "metadata": {
        "id": "cqpR-ge6MIuY",
        "colab": {
          "base_uri": "https://localhost:8080/"
        },
        "outputId": "61963c7a-eb18-4523-e994-d0c5d40269f2"
      },
      "source": [
        "# velocidade\n",
        "def velo(dist, temp):\n",
        "  return dist/temp\n",
        "\n",
        "v = velo(10, 2)\n",
        "\n",
        "print(f'A velocidade é {v}')\n",
        "\n",
        "# positivo ou negativo - usando condicionais\n",
        "def avalia_numero(num):\n",
        "  if num >= 0:\n",
        "    return print('O número é positivo!')\n",
        "  else:\n",
        "    return print('O número é negativo!')\n",
        "\n",
        "avalia_numero(5)"
      ],
      "execution_count": null,
      "outputs": [
        {
          "output_type": "stream",
          "text": [
            "A velocidade é 5.0\n",
            "O número é positivo!\n"
          ],
          "name": "stdout"
        }
      ]
    },
    {
      "cell_type": "markdown",
      "metadata": {
        "id": "t1Yw1AmBMcq3"
      },
      "source": [
        "## ⚠ Passando um número arbitrário de parâmetros\n",
        "\n",
        "As vezes você não sabe quantos parâmetros vão ser passados para a sua função. Nesse caso, é possível receber um valor variável de parâmetros usando `*` antes do nome da variável:\n",
        "\n",
        "```python\n",
        "def prepara_acai(*ingredientes, tamanho='medio'):\n",
        "```\n",
        "\n",
        "Esse recurso é usado no `print` para poder recever vários parâmetros\n",
        "\n",
        "```python\n",
        " print(*objects, sep=' ', end='\\n', file=sys.stdout, flush=False)\n",
        "```\n"
      ]
    },
    {
      "cell_type": "code",
      "metadata": {
        "id": "eAuJCRDFNSIg",
        "colab": {
          "base_uri": "https://localhost:8080/"
        },
        "outputId": "08fb4d32-2005-4216-f95d-63c36346cf1b"
      },
      "source": [
        "# prepara_acai\n",
        "def prepara_acai(*ingredientes, tamanho = 'médio'):\n",
        "  print(f'Produzindo um açaí tamanho {tamanho} com os ingredientes:')\n",
        "  for ingrediente in ingredientes:\n",
        "    print(f'- {ingrediente}')\n",
        "\n",
        "prepara_acai('Leite em pó', 'Farinha láctea', 'Chocobol', tamanho = 'grande')\n",
        "prepara_acai('Leite em pó', 'Calda de chocolate', 'Granola', tamanho = 'grande')"
      ],
      "execution_count": null,
      "outputs": [
        {
          "output_type": "stream",
          "text": [
            "Produzindo um açaí tamanho grande com os ingredientes:\n",
            "- Leite em pó\n",
            "- Farinha láctea\n",
            "- Chocobol\n",
            "Produzindo um açaí tamanho grande com os ingredientes:\n",
            "- Leite em pó\n",
            "- Calda de chocolate\n",
            "- Granola\n"
          ],
          "name": "stdout"
        }
      ]
    },
    {
      "cell_type": "markdown",
      "metadata": {
        "id": "y-q0T5r5OX1n"
      },
      "source": [
        "## Função com funções"
      ]
    },
    {
      "cell_type": "code",
      "metadata": {
        "id": "_q3Hi3-ZOYpv"
      },
      "source": [
        "# max_min\n",
        "lista = [0,1,2,3,3]\n",
        "def maximo(lista):\n",
        "  return max(lista)\n",
        "\n",
        "def minimo(lista):\n",
        "  return min(lista)\n",
        "\n",
        "\n",
        "print(max(lista))\n",
        "print(min(lista))\n",
        "\n"
      ],
      "execution_count": null,
      "outputs": []
    },
    {
      "cell_type": "markdown",
      "metadata": {
        "id": "l2t5ZMQ0OphQ"
      },
      "source": [
        "## ⚠ Funções recursivas\n",
        "\n",
        "É chamada de função recursiva aquela que faz uma chamada para ela mesma."
      ]
    },
    {
      "cell_type": "code",
      "metadata": {
        "id": "s7YXNWaIOtXg",
        "colab": {
          "base_uri": "https://localhost:8080/"
        },
        "outputId": "fa6a430e-990c-4da6-c25b-f1659bd3fc71"
      },
      "source": [
        "# dobra_lencol\n",
        "\n",
        "def dobra_lencol(lencol, gaveta):\n",
        "  if lencol <= gaveta:\n",
        "    return 0\n",
        "  else:\n",
        "    return 1 + dobra_lencol(lencol/2, gaveta)\n",
        "\n",
        "dobra_lencol(10, 2)"
      ],
      "execution_count": null,
      "outputs": [
        {
          "output_type": "execute_result",
          "data": {
            "text/plain": [
              "3"
            ]
          },
          "metadata": {
            "tags": []
          },
          "execution_count": 45
        }
      ]
    },
    {
      "cell_type": "markdown",
      "metadata": {
        "id": "z1z5Wv98Psc_"
      },
      "source": [
        "# Exercícios Fundamentais"
      ]
    },
    {
      "cell_type": "markdown",
      "metadata": {
        "id": "DxKeyLJkPw8u"
      },
      "source": [
        "1. Crie um programa que receba um valor inteiro e avalie se ele é positivo ou negativo. Essa avaliação deve ocorrer dentro de uma função que retorna um valor booleano."
      ]
    },
    {
      "cell_type": "code",
      "metadata": {
        "id": "j9so2HjLQ3ro",
        "colab": {
          "base_uri": "https://localhost:8080/"
        },
        "outputId": "45f4812d-73c4-4d14-c1ee-41b952b2f005"
      },
      "source": [
        "def e_positivo(valor):\n",
        "  if valor >= 0:\n",
        "    return True\n",
        "  else:\n",
        "    return False\n",
        "\n",
        "numero = int(input('Digite um numero'))\n",
        "\n",
        "e_positivo(numero)"
      ],
      "execution_count": null,
      "outputs": [
        {
          "output_type": "stream",
          "text": [
            "Digite um numero-222\n"
          ],
          "name": "stdout"
        },
        {
          "output_type": "execute_result",
          "data": {
            "text/plain": [
              "False"
            ]
          },
          "metadata": {
            "tags": []
          },
          "execution_count": 6
        }
      ]
    },
    {
      "cell_type": "markdown",
      "metadata": {
        "id": "VkirgJsaQ3_o"
      },
      "source": [
        "2. Crie um programa que tenha uma função que receba uma lista de números inteiros e exiba todos os valores multiplicados por um valor inserido pelo usuário."
      ]
    },
    {
      "cell_type": "code",
      "metadata": {
        "id": "n0SoCk-bQ9j_",
        "colab": {
          "base_uri": "https://localhost:8080/"
        },
        "outputId": "0f21ed15-0f75-424b-a0e3-bea38547e05e"
      },
      "source": [
        "def multiplica_lista(lista_numeros, valor):\n",
        "  for numero in lista_numeros:\n",
        "    print(numero*valor)\n",
        "\n",
        "multiplica_lista([1,2,3,4,5,6,7], 2)"
      ],
      "execution_count": null,
      "outputs": [
        {
          "output_type": "stream",
          "text": [
            "2\n",
            "4\n",
            "6\n",
            "8\n",
            "10\n",
            "12\n",
            "14\n"
          ],
          "name": "stdout"
        }
      ]
    },
    {
      "cell_type": "markdown",
      "metadata": {
        "id": "Deh14fiBXTGI"
      },
      "source": [
        "3. Crie um programa que possua uma lista de nomes. Peça que o usuário insira um nome que será buscado nesta lista. A busca deve ser implementada em uma função que retorna os valores lógicos verdadeiro ou falso."
      ]
    },
    {
      "cell_type": "code",
      "metadata": {
        "id": "XCLsXWtiXUQo",
        "colab": {
          "base_uri": "https://localhost:8080/"
        },
        "outputId": "0c5d45aa-1838-4c8a-c7b0-f70fb0a6540a"
      },
      "source": [
        "nome_requerido = input('Digite um nome: ')\n",
        "lista_nomes = ['Malu', 'Linda', 'Duda', 'Vick', 'Erick', 'Matheus']\n",
        "\n",
        "def busca_nome(nome, lista_nomes):\n",
        "  tem_valor = False\n",
        "  for nome in lista_nomes:\n",
        "    if nome == nome_requerido:\n",
        "      tem_valor = True\n",
        "  return tem_valor\n",
        "\n",
        "busca_nome(nome_requerido, lista_nomes)\n"
      ],
      "execution_count": null,
      "outputs": [
        {
          "output_type": "stream",
          "text": [
            "Digite um nome: Malu\n"
          ],
          "name": "stdout"
        },
        {
          "output_type": "execute_result",
          "data": {
            "text/plain": [
              "True"
            ]
          },
          "metadata": {
            "tags": []
          },
          "execution_count": 33
        }
      ]
    },
    {
      "cell_type": "markdown",
      "metadata": {
        "id": "jrFYQ-oxXAcZ"
      },
      "source": [
        "4. Implemente um programa que possa receber do usuário a temperatura em graus Celsius ou Fahrenheit. Antes de receber a temperatura, pergunte ao usuário se ele deseja inserir em Celsius ou em Fahrenheit. Se a entrada for em graus Celsius, o programa deverá retornar a temperatura em Fahrenheit. Se a entrada for em Fahrenheit, o programa deverá retornar a temperatura em Celsius."
      ]
    },
    {
      "cell_type": "markdown",
      "metadata": {
        "id": "dofVaIZIJvwZ"
      },
      "source": [
        "F = C x 1,8 + 32\n",
        "\n"
      ]
    },
    {
      "cell_type": "code",
      "metadata": {
        "id": "Lx1wCnOXXNaR",
        "colab": {
          "base_uri": "https://localhost:8080/"
        },
        "outputId": "7a909aa5-9b08-446d-cd7d-fdd3e5b17ac8"
      },
      "source": [
        "tipo_escala = int(input('Digite, 1 ou 2, qual escala é o valor que você vai inserir:\\n1 - Celsius\\n2 - Fahrenheit\\n'))\n",
        "temperatura = float(input('Digite a temperatura: '))\n",
        "\n",
        "def converte_temperatura(escala, temperatura):\n",
        "  if tipo_escala == 1:\n",
        "    return temperatura*1.8 + 32\n",
        "  elif tipo_escala == 2:\n",
        "    return (temperatura-32)/1.8\n",
        "\n",
        "temperatura_convertida = converte_temperatura(tipo_escala, temperatura)\n",
        "\n",
        "print(f'A temperatura convertida é: {temperatura_convertida}')\n"
      ],
      "execution_count": null,
      "outputs": [
        {
          "output_type": "stream",
          "text": [
            "Digite, 1 ou 2, qual escala é o valor que você vai inserir:\n",
            "1 - Celsius\n",
            "2 - Fahrenheit\n",
            "1\n",
            "Digite a temperatura: 0\n",
            "A temperatura convertida é: 32.0\n"
          ],
          "name": "stdout"
        }
      ]
    },
    {
      "cell_type": "markdown",
      "metadata": {
        "id": "qZcEz7I2XN1S"
      },
      "source": [
        "5. Crie um programa que receba do usuário 5 números inteiros e os exiba na tela na ordem contrária a que foi inserido. A leitura dos números deve ser feita em uma função e a exibição dos valores em ordem contrária deve ocorrer em outra função."
      ]
    },
    {
      "cell_type": "code",
      "metadata": {
        "id": "gTD0TuEiXxax",
        "colab": {
          "base_uri": "https://localhost:8080/"
        },
        "outputId": "ec2491f8-3d7a-4b1f-e16b-8f5bc630aef7"
      },
      "source": [
        "def main():\n",
        "  lista = []\n",
        "  lista = solicitaLista(lista)\n",
        "  exibeInvertido(lista)\n",
        "\n",
        "def solicitaLista(lista):\n",
        "  i = 0\n",
        "  while i < 5:\n",
        "    lista.append(int(input('Digite um número: ')))\n",
        "    i+=1\n",
        "  return lista\n",
        "\n",
        "def exibeInvertido(lista):\n",
        "  print(lista[::-1])\n",
        "\n",
        "if __name__ == '__main__':\n",
        "  main()"
      ],
      "execution_count": null,
      "outputs": [
        {
          "output_type": "stream",
          "text": [
            "Digite um número: 2\n",
            "Digite um número: 3\n",
            "Digite um número: 4\n",
            "Digite um número: 5\n",
            "Digite um número: 6\n",
            "[6, 5, 4, 3, 2]\n"
          ],
          "name": "stdout"
        }
      ]
    },
    {
      "cell_type": "markdown",
      "metadata": {
        "id": "saUWUg4hT6zi"
      },
      "source": [
        "6. Crie um programa que tenha uma função que receba uma lista de números inteiros e exiba todos os seus valores em ordem invertida.\n",
        "Obs.: Sem usar `invert` ou o fatiador com passo `-1`."
      ]
    },
    {
      "cell_type": "code",
      "metadata": {
        "id": "4m8R-3pHX0yR",
        "colab": {
          "base_uri": "https://localhost:8080/"
        },
        "outputId": "7892d291-e617-4368-8566-88dfa75430c7"
      },
      "source": [
        "def main():\n",
        "  lista = []\n",
        "  lista = solicitaLista(lista)\n",
        "  exibeInvertido(lista)\n",
        "\n",
        "def solicitaLista(lista):\n",
        "  i = 0\n",
        "  while i < 5:\n",
        "    lista.append(int(input('Digite um número: ')))\n",
        "    i+=1\n",
        "  return lista\n",
        "\n",
        "def exibeInvertido(lista):\n",
        "  i = len(lista)\n",
        "  while i > 0:\n",
        "    print(lista[i - 1])\n",
        "    i -= 1\n",
        "\n",
        "if __name__ == '__main__':\n",
        "  main()"
      ],
      "execution_count": null,
      "outputs": [
        {
          "output_type": "stream",
          "text": [
            "Digite um número: 2\n",
            "Digite um número: 3\n",
            "Digite um número: 5\n",
            "Digite um número: 7\n",
            "Digite um número: 11\n",
            "11\n",
            "7\n",
            "5\n",
            "3\n",
            "2\n"
          ],
          "name": "stdout"
        }
      ]
    },
    {
      "cell_type": "markdown",
      "metadata": {
        "id": "-mVgCguqY_rR"
      },
      "source": [
        "# Exercícios de Aprofundamento"
      ]
    },
    {
      "cell_type": "markdown",
      "metadata": {
        "id": "n7sCiHMxMleY"
      },
      "source": [
        "1. Faça um programa para imprimir:\n",
        "\n",
        "```\n",
        "    1\n",
        "    2   2\n",
        "    3   3   3\n",
        "    .....\n",
        "    n   n   n   n   n   n  ... n\n",
        "```\n",
        "\n",
        "\n",
        "\n"
      ]
    },
    {
      "cell_type": "code",
      "metadata": {
        "id": "zaJ0y7MtMwTn",
        "colab": {
          "base_uri": "https://localhost:8080/"
        },
        "outputId": "18199ae4-f46a-4643-adc6-b43c162775fa"
      },
      "source": [
        "numero = 10\n",
        "i = 1\n",
        "j = 1\n",
        "\n",
        "for i in range(1, numero + 1):\n",
        "  for j in range(i):\n",
        "    print(i, end = '\\t')\n",
        "  print('\\n')\n",
        "  \n",
        "    "
      ],
      "execution_count": null,
      "outputs": [
        {
          "output_type": "stream",
          "text": [
            "1\t\n",
            "\n",
            "2\t2\t\n",
            "\n",
            "3\t3\t3\t\n",
            "\n",
            "4\t4\t4\t4\t\n",
            "\n",
            "5\t5\t5\t5\t5\t\n",
            "\n",
            "6\t6\t6\t6\t6\t6\t\n",
            "\n",
            "7\t7\t7\t7\t7\t7\t7\t\n",
            "\n",
            "8\t8\t8\t8\t8\t8\t8\t8\t\n",
            "\n",
            "9\t9\t9\t9\t9\t9\t9\t9\t9\t\n",
            "\n",
            "10\t10\t10\t10\t10\t10\t10\t10\t10\t10\t\n",
            "\n"
          ],
          "name": "stdout"
        }
      ]
    },
    {
      "cell_type": "markdown",
      "metadata": {
        "id": "oapI1thQMwsj"
      },
      "source": [
        "2. Faça um programa para imprimir:\n",
        "\n",
        "```\n",
        "    1\n",
        "    1   2\n",
        "    1   2   3\n",
        "    .....\n",
        "    1   2   3   ...  n\n",
        "```"
      ]
    },
    {
      "cell_type": "code",
      "metadata": {
        "id": "u6g1IohcM3c3",
        "colab": {
          "base_uri": "https://localhost:8080/"
        },
        "outputId": "65abbd37-8790-4507-e6ca-ec6a99fe2863"
      },
      "source": [
        "numero = 10\n",
        "i = 1\n",
        "j = 1\n",
        "\n",
        "for i in range(1, numero + 2):\n",
        "  for j in range(1, i):\n",
        "    print(j, end = '\\t')\n",
        "  print('\\n')"
      ],
      "execution_count": null,
      "outputs": [
        {
          "output_type": "stream",
          "text": [
            "\n",
            "\n",
            "1\t\n",
            "\n",
            "1\t2\t\n",
            "\n",
            "1\t2\t3\t\n",
            "\n",
            "1\t2\t3\t4\t\n",
            "\n",
            "1\t2\t3\t4\t5\t\n",
            "\n",
            "1\t2\t3\t4\t5\t6\t\n",
            "\n",
            "1\t2\t3\t4\t5\t6\t7\t\n",
            "\n",
            "1\t2\t3\t4\t5\t6\t7\t8\t\n",
            "\n",
            "1\t2\t3\t4\t5\t6\t7\t8\t9\t\n",
            "\n",
            "1\t2\t3\t4\t5\t6\t7\t8\t9\t10\t\n",
            "\n"
          ],
          "name": "stdout"
        }
      ]
    },
    {
      "cell_type": "markdown",
      "metadata": {
        "id": "syxp-pz5Xxqo"
      },
      "source": [
        "3. Faça uma função que receba um valor inteiro e positivo e calcule o seu fatorial."
      ]
    },
    {
      "cell_type": "code",
      "metadata": {
        "id": "cUvZOqeXKR-K",
        "colab": {
          "base_uri": "https://localhost:8080/"
        },
        "outputId": "539c412d-7980-40c6-eb1b-8f4606732d61"
      },
      "source": [
        "def fatorial(num):\n",
        "  if num == 0:\n",
        "    return 1\n",
        "  return num*fatorial(num - 1)\n",
        "\n",
        "print(fatorial(5))"
      ],
      "execution_count": null,
      "outputs": [
        {
          "output_type": "stream",
          "text": [
            "120\n"
          ],
          "name": "stdout"
        }
      ]
    },
    {
      "cell_type": "markdown",
      "metadata": {
        "id": "3a_fuVWBMZZT"
      },
      "source": [
        "4. Faça um programa com uma função chamada somaImposto. A função possui dois parâmetros formais: taxaImposto, que é a quantia de imposto sobre vendas expressa em porcentagem e custo, que é o custo de um item antes do imposto. A função “altera” o valor de custo para incluir o imposto sobre vendas."
      ]
    },
    {
      "cell_type": "code",
      "metadata": {
        "id": "txL6zw6XMaip",
        "colab": {
          "base_uri": "https://localhost:8080/"
        },
        "outputId": "8d6a1d2e-d9ef-49ec-9df8-d7ff0dba05d8"
      },
      "source": [
        "def main():\n",
        "\n",
        "  taxaImposto = 0.05\n",
        "  custo = 135\n",
        "\n",
        "  soma = somaImposto(taxaImposto, custo)\n",
        "  print(soma)\n",
        "\n",
        "def somaImposto(taxaImposto, custo):\n",
        "  return custo*(1 + taxaImposto)\n",
        "\n",
        "if __name__ == '__main__':\n",
        "  main()"
      ],
      "execution_count": null,
      "outputs": [
        {
          "output_type": "stream",
          "text": [
            "141.75\n"
          ],
          "name": "stdout"
        }
      ]
    },
    {
      "cell_type": "markdown",
      "metadata": {
        "id": "7brhqI2YNm4J"
      },
      "source": [
        "5. Um palíndromo é uma palavra que se soletra da mesma forma nos dois sentidos, como “osso” e “reviver”. Escreva um função que dado uma plavra verifique se ela é palindro."
      ]
    },
    {
      "cell_type": "code",
      "metadata": {
        "id": "tRnE7E2MNuDg",
        "colab": {
          "base_uri": "https://localhost:8080/"
        },
        "outputId": "34afbf68-199e-41e3-cfa5-ae472afa13c0"
      },
      "source": [
        "def main():\n",
        "\n",
        "  palavra = input('Digite uma palavra: ').lower()\n",
        "  print(verificaPalindromo(palavra))\n",
        "\n",
        "def verificaPalindromo(palavra):\n",
        "  palavra_invertida = palavra[::-1]\n",
        "  if palavra == palavra_invertida:\n",
        "    return True\n",
        "  return False\n",
        "\n",
        "if __name__ == '__main__':\n",
        "  main()"
      ],
      "execution_count": null,
      "outputs": [
        {
          "output_type": "stream",
          "text": [
            "Digite uma palavra: reviver\n",
            "True\n"
          ],
          "name": "stdout"
        }
      ]
    },
    {
      "cell_type": "markdown",
      "metadata": {
        "id": "I5MYkuI-LzVO"
      },
      "source": [
        "6. Construa uma função que receba uma string como parâmetro e devolva outra string com os carateres embaralhados. Por exemplo: se função receber a palavra python, pode retornar npthyo, ophtyn ou qualquer outra combinação possível, de forma aleatória. Padronize em sua função que todos os caracteres serão devolvidos em caixa alta ou caixa baixa, independentemente de como foram digitados."
      ]
    },
    {
      "cell_type": "code",
      "metadata": {
        "id": "O2g_x_EsL0ju",
        "colab": {
          "base_uri": "https://localhost:8080/"
        },
        "outputId": "b2d23d27-4e04-45f5-9778-421a2cf50967"
      },
      "source": [
        "# Para pesquisa, veja a biblioteca random\n",
        "import random\n",
        "\n",
        "def main():\n",
        "  palavra = input('Digite uma palavra: ')\n",
        "  \n",
        "  print(embaralha_palavras(palavra))\n",
        "  \n",
        "def embaralha_palavras(palavra):\n",
        "  palavra_dividida = []\n",
        "  for i in palavra:\n",
        "    palavra_dividida.append(i)\n",
        "  random.shuffle(palavra_dividida)\n",
        "  palavra_embaralhada = ''.join(palavra_dividida).lower()\n",
        "  return palavra_embaralhada\n",
        "  \n",
        "\n",
        "if __name__ == '__main__':\n",
        "  main()"
      ],
      "execution_count": null,
      "outputs": [
        {
          "output_type": "stream",
          "text": [
            "Digite uma palavra: pneumonia\n",
            "noiupeman\n"
          ],
          "name": "stdout"
        }
      ]
    }
  ]
}