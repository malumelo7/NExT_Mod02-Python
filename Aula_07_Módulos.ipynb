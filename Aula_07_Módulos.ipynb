{
  "nbformat": 4,
  "nbformat_minor": 0,
  "metadata": {
    "colab": {
      "name": "Cópia de [E] Aula 07 - Módulos",
      "provenance": [],
      "collapsed_sections": [],
      "include_colab_link": true
    },
    "kernelspec": {
      "name": "python3",
      "display_name": "Python 3"
    },
    "language_info": {
      "name": "python"
    }
  },
  "cells": [
    {
      "cell_type": "markdown",
      "metadata": {
        "id": "view-in-github",
        "colab_type": "text"
      },
      "source": [
        "<a href=\"https://colab.research.google.com/github/malumelo7/next_mod02-python/blob/main/Aula_07_M%C3%B3dulos.ipynb\" target=\"_parent\"><img src=\"https://colab.research.google.com/assets/colab-badge.svg\" alt=\"Open In Colab\"/></a>"
      ]
    },
    {
      "cell_type": "markdown",
      "metadata": {
        "id": "tRvcy-qw7juT"
      },
      "source": [
        "<img src=\"https://www.cesar.school/wp-content/uploads/2019/09/marca_cesar_school.png\" alt=\"drawing\" width=\"200\"/>\n",
        "\n",
        "# Python - **Aula 07**\n",
        "\n",
        "---\n",
        "\n",
        "- Módulos\n",
        "- Pacotes"
      ]
    },
    {
      "cell_type": "markdown",
      "metadata": {
        "id": "bLCeYSaCvWbu"
      },
      "source": [
        "Por mais que a linguagem Python venha com uma série de recursos que otimizam bastante o tempo de desenvolvimento dos algoritmos, ela não é completa.\n",
        "\n",
        "Há uma série de cálculos, estruturas de dados e recursos para tratar com formatos de arquivos específicos que não está disponível nativamente na linguagem.\n",
        "\n",
        "Para evitar o esforço de \"reinventar a roda\", podemos importar tais recursos desenvolvidos por outros programadores como **módulos**.\n",
        "\n",
        "Além disso, podemos criar nossos próprios módulos, que podem ser usados diversas vezes em um projeto, ou em vários projetos da mesma empresa.\n",
        "\n",
        "> Módulos são partes (blocos) de código usados para solucionar um problema como um conjunto de funções. Os módulos podem ser reutilizados em várias aplicações.\n",
        "\n",
        "https://docs.python.org/pt-br/3/tutorial/modules.html"
      ]
    },
    {
      "cell_type": "markdown",
      "metadata": {
        "id": "Rp4-v6KlivKW"
      },
      "source": [
        "## Importando Módulos / Módulo Matemático\n",
        "\n",
        "Módulos são implementados como arquivos `.py`.\n",
        "\n",
        "Para adicionar um módulo, basta usar o comando `import` seguido no nome do módulo."
      ]
    },
    {
      "cell_type": "code",
      "metadata": {
        "id": "yuxxPJpRV6Oe",
        "colab": {
          "base_uri": "https://localhost:8080/"
        },
        "outputId": "27097d73-3249-4d70-9cb6-ae36f7a39f6f"
      },
      "source": [
        "# importar módulo matemático do Python\n",
        "import math as m\n",
        "\n",
        "# potenciação\n",
        "print(m.pow(2,3)) #pow trata os números como float\n",
        "print(2**3)\n",
        "\n",
        "# arredondamento para cima\n",
        "print(m.ceil(2.3))\n",
        "\n",
        "\n",
        "# arredondamento para baixo\n",
        "print(m.trunc(2.3))"
      ],
      "execution_count": null,
      "outputs": [
        {
          "output_type": "stream",
          "text": [
            "8.0\n",
            "8\n",
            "3\n",
            "2\n",
            "2\n"
          ],
          "name": "stdout"
        }
      ]
    },
    {
      "cell_type": "markdown",
      "metadata": {
        "id": "DbQmH9eJjlQ0"
      },
      "source": [
        "## Manipulando arquivos e pastas\n",
        "\n",
        "Na aula passada, aprendemos a criar arquivos, contudo, não conseguimos excluir um arquivo ou criar/excluir uma pasta.\n",
        "\n",
        "Isso só é possível usando o módulo `os`."
      ]
    },
    {
      "cell_type": "code",
      "metadata": {
        "id": "DWjHELVNkHsT",
        "colab": {
          "base_uri": "https://localhost:8080/"
        },
        "outputId": "ffcb36d6-e2c4-423b-e9d8-44df3318c5bf"
      },
      "source": [
        "# importando o módulo [os] (operational system)\n",
        "import os\n",
        "\n",
        "# removendo um arquivo\n",
        "#os.remove('naomeapagapeloamordedeus.txt')\n",
        "\n",
        "# verificando se um arquivo existe\n",
        "if os.path.exists('exemplo/naomeapagapeloamordedeus.txt'):\n",
        "  os.remove('exemplo/naomeapagapeloamordedeus.txt')\n",
        "  print('Arquivo removido')\n",
        "else:\n",
        "  print('Arquivo não encontrado')\n",
        "\n",
        "# removendo uma pasta\n",
        "#os.rmdir('exemplo')"
      ],
      "execution_count": null,
      "outputs": [
        {
          "output_type": "stream",
          "text": [
            "Arquivo não encontrado\n"
          ],
          "name": "stdout"
        }
      ]
    },
    {
      "cell_type": "markdown",
      "metadata": {
        "id": "F-VFRDJXkZ0Z"
      },
      "source": [
        "## Módulos embutidos\n",
        "\n",
        "Em Python existem uma variedades de módulos embutidos (aqueles que são distribuídos junto a linguagem e não requerem instalação adicional). Cada módulo tem uma série de funções específicas.\n",
        "\n",
        "Para descobrir quais são as funções que um determinado módulo tem, é possível usar o método `dir()`.\n",
        "\n",
        "Para entender melhor como uma determinada função funciona, é possível usar o métido `help()`"
      ]
    },
    {
      "cell_type": "code",
      "metadata": {
        "id": "s0eVeC4TlGvE",
        "colab": {
          "base_uri": "https://localhost:8080/"
        },
        "outputId": "1af17f3e-762d-479a-b56a-780c99e2f283"
      },
      "source": [
        "import math\n",
        "\n",
        "# exibir as funções do módulo matemático\n",
        "print(dir(os.path))\n",
        "\n",
        "# exibir a documentação da função trunc()\n",
        "help(math.trunc)\n"
      ],
      "execution_count": null,
      "outputs": [
        {
          "output_type": "stream",
          "text": [
            "['__all__', '__builtins__', '__cached__', '__doc__', '__file__', '__loader__', '__name__', '__package__', '__spec__', '_get_sep', '_joinrealpath', '_varprog', '_varprogb', 'abspath', 'altsep', 'basename', 'commonpath', 'commonprefix', 'curdir', 'defpath', 'devnull', 'dirname', 'exists', 'expanduser', 'expandvars', 'extsep', 'genericpath', 'getatime', 'getctime', 'getmtime', 'getsize', 'isabs', 'isdir', 'isfile', 'islink', 'ismount', 'join', 'lexists', 'normcase', 'normpath', 'os', 'pardir', 'pathsep', 'realpath', 'relpath', 'samefile', 'sameopenfile', 'samestat', 'sep', 'split', 'splitdrive', 'splitext', 'stat', 'supports_unicode_filenames', 'sys']\n",
            "Help on built-in function trunc in module math:\n",
            "\n",
            "trunc(x, /)\n",
            "    Truncates the Real x to the nearest Integral toward 0.\n",
            "    \n",
            "    Uses the __trunc__ magic method.\n",
            "\n"
          ],
          "name": "stdout"
        }
      ]
    },
    {
      "cell_type": "markdown",
      "metadata": {
        "id": "J2l4QjnXl6Uf"
      },
      "source": [
        "## Escrevendo e usando módulos\n",
        "\n",
        "Além de usar os módulos embutidos, é possível criar seus próprios módulos!\n",
        "\n",
        "Basta criar um arquivo `.py` com o nome do módulo e importa-lo usando esse nome (sem o `.py`)"
      ]
    },
    {
      "cell_type": "code",
      "metadata": {
        "id": "HgfwaoVBmhWb",
        "colab": {
          "base_uri": "https://localhost:8080/"
        },
        "outputId": "c3920b7c-5863-46ce-c27c-788726ecbf3e"
      },
      "source": [
        "# módulo calculadora\n",
        "\n",
        "import calculadora as calc\n",
        "\n",
        "print(calc.soma(10,5))\n"
      ],
      "execution_count": null,
      "outputs": [
        {
          "output_type": "stream",
          "text": [
            "15\n"
          ],
          "name": "stdout"
        }
      ]
    },
    {
      "cell_type": "markdown",
      "metadata": {
        "id": "uEjGlYN4nfP9"
      },
      "source": [
        "## Criando pacotes\n",
        "\n",
        "Pacotes são espaços compostos por vários módulos. São como uma pasta no computador que tem arquivos relacionados a um mesmo assunto.\n",
        "\n",
        "Por exemplo, podemos imaginar um pacote chamado **matemática** que conteria vário módulos, tais como: *calculadora*, *geometria*, *probabilidade*...\n",
        "\n",
        "Para uma pasta ser considerada como pacote, em Pyhton, é necessário que haja um arquivo `__init__.py` dentro dele."
      ]
    },
    {
      "cell_type": "markdown",
      "metadata": {
        "id": "WAzOO6Heoak-"
      },
      "source": [
        "## Importando módulos de pacotes\n",
        "\n",
        "É possível usar os seguintes comandos:\n",
        "- `import`\n",
        "- `from`\n",
        "\n",
        "Também é possível adicionar apelidos aos módulos:\n",
        "\n",
        "```python\n",
        "from modulo import funcao as apelido\n",
        "from pacote import modulo as apelido\n",
        "```"
      ]
    },
    {
      "cell_type": "code",
      "metadata": {
        "id": "eo2ekobxpQtB",
        "colab": {
          "base_uri": "https://localhost:8080/"
        },
        "outputId": "61772695-db8f-4711-936f-29860281229e"
      },
      "source": [
        "# from matematica import calculadora as calc\n",
        "from matematica import calculadora as calc\n",
        "\n",
        "print(calc.soma(10,5))\n"
      ],
      "execution_count": null,
      "outputs": [
        {
          "output_type": "stream",
          "text": [
            "15\n"
          ],
          "name": "stdout"
        }
      ]
    },
    {
      "cell_type": "markdown",
      "metadata": {
        "id": "sl5ESd3hID2T"
      },
      "source": [
        "# Exercícios Fundamentais"
      ]
    },
    {
      "cell_type": "markdown",
      "metadata": {
        "id": "_bSDmd2gLzPT"
      },
      "source": [
        "1. Usuario irá infomar o valor do raio, calcule a area da circuferencia utilizando funções e pi do modulo math.\n",
        "\n",
        "a. Faça o arredondamento apartir segunda casa decimal para cima.\n",
        "\n",
        "b. Faça o arredondamento apartir terceira casa decimal para baixo."
      ]
    },
    {
      "cell_type": "markdown",
      "metadata": {
        "id": "eBnge6J1JSyi"
      },
      "source": [
        "Veja https://docs.python.org/pt-br/3/library/math.html"
      ]
    },
    {
      "cell_type": "code",
      "metadata": {
        "id": "IXJndqpTLw66",
        "colab": {
          "base_uri": "https://localhost:8080/"
        },
        "outputId": "56565ebe-b44f-4dc9-c972-10b8905624ef"
      },
      "source": [
        "import math\n",
        "raio = float(input('Digite o raio do circulo: '))\n",
        "\n",
        "area = math.pi*math.pow(raio,2)\n",
        "\n",
        "areaA = math.ceil(area*100)/100\n",
        "areaB = math.trunc(area*1000)/1000\n",
        "\n",
        "print(areaA)\n",
        "print(areaB)\n"
      ],
      "execution_count": null,
      "outputs": [
        {
          "output_type": "stream",
          "text": [
            "Digite o raio do circulo: 5\n",
            "78.54\n",
            "78.539\n"
          ],
          "name": "stdout"
        }
      ]
    },
    {
      "cell_type": "markdown",
      "metadata": {
        "id": "DIVVngBrL1Ag"
      },
      "source": [
        "2. Faça um programa que crie uma pasta no diretorio atual do notebook e crie dentro dele um arquivo chamado, lista_de_chamada.txt, na qual devera ter 5 nomes informados pelo usuario."
      ]
    },
    {
      "cell_type": "code",
      "metadata": {
        "id": "UCmPQocwKhu1",
        "colab": {
          "base_uri": "https://localhost:8080/"
        },
        "outputId": "199e620a-2b8e-4ee1-fd6f-2e5af9cde286"
      },
      "source": [
        "import os\n",
        "\n",
        "lista_nomes = []\n",
        "\n",
        "for _ in range(5):\n",
        "  lista_nomes.append(input('Digite um nome: '))\n",
        "\n",
        "def escrever_lista_em_arquivo(nome_arq, lista):\n",
        "  with open(nome_arq, 'w') as arq:\n",
        "    for linha in lista:\n",
        "      arq.write(linha + '\\n')\n",
        "\n",
        "os.mkdir('/content/exercicio2')\n",
        "escrever_lista_em_arquivo('/content/exercicio2/lista_de_chamada.txt', lista_nomes)\n",
        "\n",
        "\n"
      ],
      "execution_count": null,
      "outputs": [
        {
          "output_type": "stream",
          "text": [
            "Digite um nome: Malu\n",
            "Digite um nome: Vic\n",
            "Digite um nome: Nice\n",
            "Digite um nome: Vick\n",
            "Digite um nome: Manu\n"
          ],
          "name": "stdout"
        }
      ]
    },
    {
      "cell_type": "markdown",
      "metadata": {
        "id": "j7EC0wvFIAOn"
      },
      "source": [
        "# Exercícios de Aprofundamento"
      ]
    },
    {
      "cell_type": "markdown",
      "metadata": {
        "id": "j-v_sPsxLMaZ"
      },
      "source": [
        "1. Escreva um programa que pergunte nomes de alunos de uma sala de aula. O número de alunos é desconhecido, por isso o programa deve perguntar até que seja digitada a palavra “fim”. Depois, o programa deve sortear um aluno para apresentar o trabalho primeiro.\n",
        "\n",
        "Exemplo:\n",
        "```\n",
        "Digite um nome: Yann\n",
        "\n",
        "Digite um nome: Camilinha\n",
        "\n",
        "Digite um nome: Richardneydson\n",
        "\n",
        "Digite um nome: Claudiane\n",
        "\n",
        "Digite um nome: fim\n",
        "\n",
        "O primeiro aluno a apresentar será: Claudiane.\n",
        "```\n",
        "\n",
        "> **Dica veja a biblioteca random**"
      ]
    },
    {
      "cell_type": "code",
      "metadata": {
        "id": "5oh2mEpEIAwj",
        "colab": {
          "base_uri": "https://localhost:8080/"
        },
        "outputId": "dae76017-9345-48ea-bd6f-0d27a69df717"
      },
      "source": [
        "import random\n",
        "\n",
        "lista_nomes = []\n",
        "nome = 'oi'\n",
        "\n",
        "while nome != 'fim':\n",
        "  nome = input('Digite um nome: ')\n",
        "  if nome != 'fim':\n",
        "    lista_nomes.append(nome)\n",
        "\n",
        "sorteado = random.randrange(0, len(lista_nomes))\n",
        "print(f'O primeiro aluno a apresentar será: {lista_nomes[sorteado]}')"
      ],
      "execution_count": null,
      "outputs": [
        {
          "output_type": "stream",
          "text": [
            "Digite um nome: Yann\n",
            "Digite um nome: Camilinha\n",
            "Digite um nome: Richardneydson\n",
            "Digite um nome: Claudiane\n",
            "Digite um nome: fim\n",
            "O primeiro aluno a apresentar será: Yann\n"
          ],
          "name": "stdout"
        }
      ]
    },
    {
      "cell_type": "markdown",
      "metadata": {
        "id": "_sA2YJcVLH8P"
      },
      "source": [
        "2. Escreva um programa que receba o nome de uma sequência de times de futebol e exiba uma as partidas de um torneio com os times, de forma que:\n",
        "\n",
        "- As partidas devem ser geradas de forma aleatória.\n",
        "- O número de times digitados deve ser par.\n",
        "- O programa deve pedir nomes até que seja digitado “fim”\n",
        "Exemplo:\n",
        "\n",
        "Entrada:\n",
        "```\n",
        "Digite um time: Flamengo\n",
        "Digite um time: Vasco\n",
        "Digite um time: Fluminense\n",
        "Digite um time: Botafogo\n",
        "Digite um time: Bangu 2\n",
        "Digite um time: Barcelona\n",
        "Digite um time: fim\n",
        "```\n",
        "Saída:\n",
        "```\n",
        "Barcelona x Botafogo\n",
        "Fluminense x Vasco\n",
        "Bangu 2 x Flamengo\n",
        "```\n",
        "\n",
        "> **Dica veja a biblioteca random**"
      ]
    },
    {
      "cell_type": "code",
      "metadata": {
        "id": "LcrFl4kdLJQP",
        "colab": {
          "base_uri": "https://localhost:8080/"
        },
        "outputId": "8b4862d5-7e5a-4c75-9248-1c0417685c40"
      },
      "source": [
        "import random\n",
        "\n",
        "# recebendo lista de times\n",
        "lista_times = []\n",
        "time = ''\n",
        "\n",
        "while time != 'fim' or len(lista_times) % 2 != 0:\n",
        "  time = input('Digite um time: ')\n",
        "\n",
        "  if time != 'fim':\n",
        "    lista_times.append(time)\n",
        "\n",
        "# fazendo as combinações\n",
        "lista_posicao = []\n",
        "for i in range(0, len(lista_times)):\n",
        "  lista_posicao.append(i)\n",
        "\n",
        "random.shuffle(lista_posicao)\n",
        "\n",
        "# printando combinações\n",
        "for i in range(1, int(len(lista_times))):\n",
        "  print(f'{lista_times[lista_posicao[i] - 1]} x {lista_times[lista_posicao[i]]}')\n"
      ],
      "execution_count": null,
      "outputs": [
        {
          "output_type": "stream",
          "text": [
            "Digite um time: a\n",
            "Digite um time: b\n",
            "Digite um time: c\n",
            "Digite um time: d\n",
            "Digite um time: e\n",
            "Digite um time: f\n",
            "Digite um time: g\n",
            "Digite um time: h\n",
            "Digite um time: fim\n",
            "a x b\n",
            "b x c\n",
            "h x a\n",
            "e x f\n",
            "c x d\n",
            "d x e\n",
            "f x g\n"
          ],
          "name": "stdout"
        }
      ]
    },
    {
      "cell_type": "markdown",
      "metadata": {
        "id": "4c0FnQXZLZG3"
      },
      "source": [
        "3. Escreva um programa que implemente o jogo conhecido como **pedra, papel, tesoura**. Neste jogo, o usuário e o computador escolhem entre pedra, papel ou tesoura. Sabendo que pedra ganha de tesoura, papel ganha de pedra e tesoura ganha de papel, exiba na tela o ganhador: usuário ou computador. Para esta implementação, assuma que o número 0 representa pedra, 1 representa papel e 2 representa tesoura. O programa deve pedir para o usuário entrar com sua escolha, gerar aleatoriamente a escolha do computador, exibir a escolha e indicar o vencedor\n",
        "\n",
        "> **Dica veja a biblioteca random**"
      ]
    },
    {
      "cell_type": "code",
      "metadata": {
        "id": "8_Hv_DkALfNU",
        "colab": {
          "base_uri": "https://localhost:8080/"
        },
        "outputId": "82af38de-918d-4adf-d95a-218afe0b5f66"
      },
      "source": [
        "import random\n",
        "def main():\n",
        "  opcoes = {0: 'Pedra', 1: 'Papel', 2: 'Tesoura'}\n",
        "  resultados = {True: 'VOCÊ GANHOU!', False: 'VOCÊ PERDEU', -1: 'Empate!!'}\n",
        "\n",
        "  escolha_usuario = int(input('Escolha um número:\\n0- Pedra\\n1- Papel\\n2- Tesoura\\n'))\n",
        "\n",
        "  escolha_computador = random.randrange(0,3)\n",
        "\n",
        "  resultado = analisaResultado(escolha_usuario, escolha_computador)\n",
        "\n",
        "  print(f'Sua escolha: {opcoes[escolha_usuario]}')\n",
        "  print(f'Escolha da máquina: {opcoes[escolha_computador]}\\n')\n",
        "  print(resultados[resultado])\n",
        "\n",
        "\n",
        "def analisaResultado(usuario, computador):\n",
        "  if usuario == 0 and computador == 2:\n",
        "    return True\n",
        "  elif usuario == 2 and computador == 0:\n",
        "    return False\n",
        "  \n",
        "  elif usuario == 1 and computador == 0:\n",
        "    return True\n",
        "  elif usuario == 0 and computador == 1:\n",
        "    return False\n",
        "\n",
        "  elif usuario == 2 and computador == 1:\n",
        "    return True\n",
        "  elif usuario == 1 and computador == 2:\n",
        "    return False\n",
        "  \n",
        "  else:\n",
        "    return -1\n",
        "\n",
        "\n",
        "if __name__ == '__main__':\n",
        "  main()"
      ],
      "execution_count": null,
      "outputs": [
        {
          "output_type": "stream",
          "text": [
            "Escolha um número:\n",
            "0- Pedra\n",
            "1- Papel\n",
            "2- Tesoura\n",
            "1\n",
            "Sua escolha: Papel\n",
            "Escolha da máquina: Pedra\n",
            "\n",
            "VOCÊ GANHOU!\n"
          ],
          "name": "stdout"
        }
      ]
    }
  ]
}