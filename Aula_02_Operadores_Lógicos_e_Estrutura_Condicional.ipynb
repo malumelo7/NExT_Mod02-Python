{
  "nbformat": 4,
  "nbformat_minor": 0,
  "metadata": {
    "colab": {
      "name": "Cópia de [E] Aula 02 - Operadores Lógicos e Estrutura Condicional.ipynb",
      "provenance": [],
      "collapsed_sections": [],
      "include_colab_link": true
    },
    "kernelspec": {
      "name": "python3",
      "display_name": "Python 3"
    }
  },
  "cells": [
    {
      "cell_type": "markdown",
      "metadata": {
        "id": "view-in-github",
        "colab_type": "text"
      },
      "source": [
        "<a href=\"https://colab.research.google.com/github/malumelo7/next_mod02-python/blob/main/Aula_02_Operadores_L%C3%B3gicos_e_Estrutura_Condicional.ipynb\" target=\"_parent\"><img src=\"https://colab.research.google.com/assets/colab-badge.svg\" alt=\"Open In Colab\"/></a>"
      ]
    },
    {
      "cell_type": "markdown",
      "metadata": {
        "id": "9ujEVvoCTM6p"
      },
      "source": [
        "<img src=\"https://www.cesar.school/wp-content/uploads/2019/09/marca_cesar_school.png\" alt=\"drawing\" width=\"200\"/>\n",
        "\n",
        "# Python - **Aula 02**\n",
        "\n",
        "---\n",
        "\n",
        "- Entender conceitos básicos sobre programação;\n",
        "- Conhecer a linguagem Python;\n",
        "- Criar seu primeiro programa em Python;\n"
      ]
    },
    {
      "cell_type": "markdown",
      "metadata": {
        "id": "zAWgCzEXyWGU"
      },
      "source": [
        "# Operadores Lógicos"
      ]
    },
    {
      "cell_type": "markdown",
      "metadata": {
        "id": "rzDS1hUgwxsN"
      },
      "source": [
        "## Operadores Relacionais\n",
        "\n",
        "Uma condição é o estabelecimento de uma relação lógica entre dois elementos. Para definir uma relação lógica é necessário usar operadores relacionais. Uma relação lógica (comparação) retorna somente os valores verdadeiro ou falso.\n",
        "\n",
        "* Igual a: `x == y`\n",
        "* Maior que: `x > y`\n",
        "* Menor que: `x < y`\n",
        "* Maior ou igual a: `x >= y`\n",
        "* Menor ou igual a: `x <= y`\n",
        "* Diferente de: `x != y`"
      ]
    },
    {
      "cell_type": "code",
      "metadata": {
        "id": "LrgPw5AZWYBY",
        "colab": {
          "base_uri": "https://localhost:8080/"
        },
        "outputId": "d0689cd7-2ea1-452b-854d-cb7afe61a86d"
      },
      "source": [
        "print(10 == 10)\n",
        "print(10 > 15)\n",
        "print(10 < 15)\n",
        "print(10 >= 10)\n",
        "print(10 <= 10)\n",
        "print(10 != 10)"
      ],
      "execution_count": null,
      "outputs": [
        {
          "output_type": "stream",
          "text": [
            "True\n",
            "False\n",
            "True\n",
            "True\n",
            "True\n",
            "False\n"
          ],
          "name": "stdout"
        }
      ]
    },
    {
      "cell_type": "markdown",
      "metadata": {
        "id": "AkKDg0Lxw3c4"
      },
      "source": [
        "## Operadores Lógicos\n",
        "São utilizados para uma mesma tomada de decisão que necessite de mais de uma condição. Também são conhecidos como operadores booleanos. Operadores lógicos retornam somente os valores verdadeiro ou falso.\n",
        "\n",
        "| Operador Lógico | Função    | Prioridade |\n",
        "|-----------------|-----------|---------------------|\n",
        "| `NOT`           | Negação   | 1                   |\n",
        "| `AND`           | Conjunção | 2                   |\n",
        "| `OR`            | Disjunção | 3                   |"
      ]
    },
    {
      "cell_type": "code",
      "metadata": {
        "id": "DRUv3H5AsF8V",
        "colab": {
          "base_uri": "https://localhost:8080/"
        },
        "outputId": "653dfc0e-4c58-4b3f-c492-3c835c852987"
      },
      "source": [
        "not True and False"
      ],
      "execution_count": null,
      "outputs": [
        {
          "output_type": "execute_result",
          "data": {
            "text/plain": [
              "False"
            ]
          },
          "metadata": {
            "tags": []
          },
          "execution_count": 6
        }
      ]
    },
    {
      "cell_type": "code",
      "metadata": {
        "id": "u4NMl4X0w43O",
        "colab": {
          "base_uri": "https://localhost:8080/"
        },
        "outputId": "6f37f2ab-036a-4fa7-e0ce-63b57194b33c"
      },
      "source": [
        "x = 1\n",
        "y = 3\n",
        "z = 5\n",
        "w = 2\n",
        "\n",
        "print(z > w and w > y) # False\n",
        "print(z > w or w > y) # True\n",
        "print(not y + w == z) # False"
      ],
      "execution_count": null,
      "outputs": [
        {
          "output_type": "stream",
          "text": [
            "False\n",
            "True\n",
            "False\n"
          ],
          "name": "stdout"
        }
      ]
    },
    {
      "cell_type": "code",
      "metadata": {
        "id": "_QfX5hX0w9do",
        "colab": {
          "base_uri": "https://localhost:8080/"
        },
        "outputId": "e398b414-f7c2-4669-8a98-b3620ceee61b"
      },
      "source": [
        "a = True\n",
        "not a and 5 > 7"
      ],
      "execution_count": null,
      "outputs": [
        {
          "output_type": "execute_result",
          "data": {
            "text/plain": [
              "False"
            ]
          },
          "metadata": {
            "tags": []
          },
          "execution_count": 5
        }
      ]
    },
    {
      "cell_type": "markdown",
      "metadata": {
        "id": "WsXf_ireWQZd"
      },
      "source": [
        "#Estruturas Condicionais\n",
        "\n",
        "Em Python, é possível controlar o fluxo de execução do código usando estruturas condicionais.\n",
        "\n"
      ]
    },
    {
      "cell_type": "markdown",
      "metadata": {
        "id": "zmalBcHrxAkw"
      },
      "source": [
        "## Estrutura Condicional Simples\n",
        "\n",
        "- if\n",
        "\n",
        "```python\n",
        "if condição:\n",
        "  # se for verdade\n",
        "```\n",
        "\n"
      ]
    },
    {
      "cell_type": "code",
      "metadata": {
        "id": "12kCjeeyxEHI"
      },
      "source": [
        "if 10 < 5:\n",
        "  print('10 é maior que 5')\n",
        "  if True:\n",
        "    print(\"Verdadeiro\")"
      ],
      "execution_count": null,
      "outputs": []
    },
    {
      "cell_type": "markdown",
      "metadata": {
        "id": "4lZ3gYBwxIqw"
      },
      "source": [
        "## Estrutura Condicional Composta\n",
        "\n",
        "- if\n",
        "- elif\n",
        "- else\n",
        "\n",
        "```python\n",
        "if condição:\n",
        "  # se for verdade\n",
        "else:\n",
        "  # se não for verdade\n",
        "```\n",
        "\n",
        "```python\n",
        "if condição:\n",
        "  # se for verdade\n",
        "elif outra_condicao:\n",
        "  # se a outra condição for verdadeira\n",
        "else:\n",
        "  # se não for verdade\n",
        "```"
      ]
    },
    {
      "cell_type": "code",
      "metadata": {
        "id": "8CDRVqpCxL5N",
        "colab": {
          "base_uri": "https://localhost:8080/"
        },
        "outputId": "30f388d0-5d44-4e06-bd65-7ad411ebc36e"
      },
      "source": [
        "name = 'Malu'\n",
        "\n",
        "if name == 'Malu':\n",
        "  print('Pode passar!')\n",
        "else:\n",
        "  print('Não pode passar.')"
      ],
      "execution_count": null,
      "outputs": [
        {
          "output_type": "stream",
          "text": [
            "Pode passar!\n"
          ],
          "name": "stdout"
        }
      ]
    },
    {
      "cell_type": "code",
      "metadata": {
        "id": "vKb7Mu1SxN8-",
        "colab": {
          "base_uri": "https://localhost:8080/"
        },
        "outputId": "c722d164-16a0-438a-da45-8ea9509c3f9f"
      },
      "source": [
        "name = 'Erick'\n",
        "\n",
        "if name == 'Erick':\n",
        "  print('Pode passar')\n",
        "elif name == 'Dennis':\n",
        "  print('Pode passar, mas vai ter que mandar um pix')\n",
        "elif name == 'Natalia':\n",
        "  print('Pode passar, mas vai ter que pagar um boleto')\n",
        "else:\n",
        "  print('Não pode passar!')"
      ],
      "execution_count": null,
      "outputs": [
        {
          "output_type": "stream",
          "text": [
            "Pode passar\n"
          ],
          "name": "stdout"
        }
      ]
    },
    {
      "cell_type": "markdown",
      "metadata": {
        "id": "ONQEKPoD5WRt"
      },
      "source": [
        "## IF inline\n",
        "\n",
        "(caso verdadeiro) if (condição) else (caso falso)"
      ]
    },
    {
      "cell_type": "code",
      "metadata": {
        "id": "KRa8D_vB5l_B"
      },
      "source": [
        "nome= 'Erick'\n",
        "resultado = 'Pode passar' if nome == 'Erick' else 'Não pode passar'\n",
        "print(resultado)"
      ],
      "execution_count": null,
      "outputs": []
    },
    {
      "cell_type": "markdown",
      "metadata": {
        "id": "L1_5F0TnxazF"
      },
      "source": [
        "# Exercícios\n"
      ]
    },
    {
      "cell_type": "markdown",
      "metadata": {
        "id": "ALgn8jEOXI8m"
      },
      "source": [
        "1. Informe a saída das seguintes expressões:\n",
        "\n",
        "a)\n",
        "```python\n",
        "3 < 8 # True\n",
        "```\n",
        "b)\n",
        "```python\n",
        "a = 12\n",
        "b = a - 10\n",
        "a > b # True\n",
        "```\n",
        "c)\n",
        "```python\n",
        "16 != 16 # False\n",
        "```\n",
        "d)\n",
        "```python\n",
        "2 < 5 > 10 # False\n",
        "```\n",
        "e)\n",
        "```python\n",
        "3 <= 5 >= 2 # True\n",
        "```"
      ]
    },
    {
      "cell_type": "code",
      "metadata": {
        "colab": {
          "base_uri": "https://localhost:8080/"
        },
        "id": "DnEpgZRkXEYW",
        "outputId": "385c8b18-039a-4180-af0b-0b2521b9dfd9"
      },
      "source": [
        "print(3<8)\n",
        "a = 12\n",
        "b = a - 10\n",
        "print(a > b)\n",
        "print(16 != 16)\n",
        "print(2 < 5 > 10)\n",
        "print(3 <= 5 >= 2)"
      ],
      "execution_count": null,
      "outputs": [
        {
          "output_type": "stream",
          "text": [
            "True\n",
            "True\n",
            "False\n",
            "False\n",
            "True\n"
          ],
          "name": "stdout"
        }
      ]
    },
    {
      "cell_type": "markdown",
      "metadata": {
        "id": "38fv7groq1TP"
      },
      "source": [
        "2. Verifique se as igualdades abaixo são verdadeiras:"
      ]
    },
    {
      "cell_type": "markdown",
      "metadata": {
        "id": "NVrRDMptq-XV"
      },
      "source": [
        "**(a)** $2 \\times 2.0 = 4$"
      ]
    },
    {
      "cell_type": "code",
      "metadata": {
        "id": "WUKZ6b78rA7V",
        "colab": {
          "base_uri": "https://localhost:8080/"
        },
        "outputId": "3572d738-7946-4702-c047-b66aa819f7bc"
      },
      "source": [
        "print(2*2.0 == 4)"
      ],
      "execution_count": null,
      "outputs": [
        {
          "output_type": "stream",
          "text": [
            "True\n"
          ],
          "name": "stdout"
        }
      ]
    },
    {
      "cell_type": "markdown",
      "metadata": {
        "id": "tOJCnahPrD-W"
      },
      "source": [
        "**(b)** $2 \\times 3 = 5$"
      ]
    },
    {
      "cell_type": "code",
      "metadata": {
        "id": "GkMDHX0vrEqZ",
        "colab": {
          "base_uri": "https://localhost:8080/"
        },
        "outputId": "fb110bed-34ef-4ba8-d307-3fe3f94c0633"
      },
      "source": [
        "print(2*3 == 5)"
      ],
      "execution_count": null,
      "outputs": [
        {
          "output_type": "stream",
          "text": [
            "False\n"
          ],
          "name": "stdout"
        }
      ]
    },
    {
      "cell_type": "markdown",
      "metadata": {
        "id": "bmiounPQrE7N"
      },
      "source": [
        "**(c)** $4a + 3 = b$, para $a=3$ e $b=15$ (primeiro declare as variáveis `a` e `b`)"
      ]
    },
    {
      "cell_type": "code",
      "metadata": {
        "id": "gYX4EINtrHR9",
        "colab": {
          "base_uri": "https://localhost:8080/"
        },
        "outputId": "8b204ac7-d897-4163-bf76-d9b14975b499"
      },
      "source": [
        "a = 3\n",
        "b = 15\n",
        "\n",
        "print(4*a+3 == b)\n"
      ],
      "execution_count": null,
      "outputs": [
        {
          "output_type": "stream",
          "text": [
            "True\n"
          ],
          "name": "stdout"
        }
      ]
    },
    {
      "cell_type": "markdown",
      "metadata": {
        "id": "8cxnTi98vCBA"
      },
      "source": [
        "3. Faça um programa que calcule as raízes de uma equação do segundo grau, na forma ax2 + bx + c. O programa deverá pedir os valores de a, b e c e fazer as consistências, informando ao usuário nas seguintes situações:\n",
        "\n",
        "a- Se o usuário informar o valor de A igual a zero, a equação não é do segundo grau e o programa não deve fazer pedir os demais valores, sendo encerrado;\n",
        "\n",
        "b- Se o delta calculado for negativo, a equação não possui raizes reais. Informe ao usuário e encerre o programa;\n",
        "\n",
        "c- Se o delta calculado for igual a zero a equação possui apenas uma raiz real; informe-a ao usuário;\n",
        "\n",
        "d- Se o delta for positivo, a equação possui duas raiz reais; informe-as ao usuário;"
      ]
    },
    {
      "cell_type": "code",
      "metadata": {
        "id": "OXnitl8yvPel",
        "colab": {
          "base_uri": "https://localhost:8080/"
        },
        "outputId": "904a62f9-f897-4b2d-b528-9d3c16e7b0f8"
      },
      "source": [
        "import math\n",
        "\n",
        "a = float(input(\"Digite o valor de a: \"))\n",
        "b = float(input(\"Digite o valor de b: \"))\n",
        "c = float(input(\"Digite o valor de c: \"))\n",
        "\n",
        "delta = float(b**2 - (4*a*c))\n",
        "\n",
        "\n",
        "if a == 0:\n",
        "  print(\"A equação não é do segundo grau.\")\n",
        "elif delta < 0:\n",
        "  print(\"A equação não tem raiz.\")\n",
        "elif delta == 0:\n",
        "  print(f\"A única raiz real é: {(- b + math.sqrt(delta))/(2*a)}\")\n",
        "else:\n",
        "  print(f\"O valor de x1 = {(- b + math.sqrt(delta))/(2*a)} e o valor de x2 = {(- b - math.sqrt(delta))/(2*a)}\")\n"
      ],
      "execution_count": null,
      "outputs": [
        {
          "output_type": "stream",
          "text": [
            "Digite o valor de a: -1\n",
            "Digite o valor de b: 3\n",
            "Digite o valor de c: 0\n",
            "O valor de x1 = -0.0 e o valor de x2 = 3.0\n"
          ],
          "name": "stdout"
        }
      ]
    },
    {
      "cell_type": "markdown",
      "metadata": {
        "id": "Hjpnzu9HvQiU"
      },
      "source": [
        "4. Faça um Programa que peça um número correspondente a um determinado ano e em seguida informe se este ano é ou não bissexto."
      ]
    },
    {
      "cell_type": "code",
      "metadata": {
        "id": "Lh2LloRVvTvc",
        "colab": {
          "base_uri": "https://localhost:8080/"
        },
        "outputId": "61bfe9de-c43a-4878-b3cb-5f391883dc2e"
      },
      "source": [
        "ano = int(input('Digite o ano: '))\n",
        "\n",
        "if ano % 4 == 0 or (ano % 100 != 0 and ano % 400 == 0):\n",
        "  print(\"É bissexto!\")\n",
        "\n",
        "else:\n",
        "  print('Não é bissexto')"
      ],
      "execution_count": null,
      "outputs": [
        {
          "output_type": "stream",
          "text": [
            "Digite o ano: 2012\n",
            "É bissexto!\n"
          ],
          "name": "stdout"
        }
      ]
    },
    {
      "cell_type": "markdown",
      "metadata": {
        "id": "XunttGjtvUH0"
      },
      "source": [
        "5. Faça um Programa que peça uma data no formato dd/mm/aaaa e determine se a mesma é uma data válida."
      ]
    },
    {
      "cell_type": "code",
      "metadata": {
        "id": "2UzoTDudvUfr",
        "colab": {
          "base_uri": "https://localhost:8080/"
        },
        "outputId": "83fd65e7-b0b4-46bd-8834-ae4834268557"
      },
      "source": [
        "def main():\n",
        "  dia, mes, ano = list(map(int, input('Digite a data no formato dd/mm/aaaa: ').split('/')))\n",
        "\n",
        "  validacaoDia = validaDia(dia)\n",
        "  validacaoMes = validaMes(mes)\n",
        "  validacaoAno = validaAno(ano)\n",
        "\n",
        "  if validacaoDia and validacaoMes and validacaoAno:\n",
        "    print('Data válida')\n",
        "  else:\n",
        "    print('Data INVÁLIDA')\n",
        "\n",
        "def validaDia(dia):\n",
        "  if 1 <= dia <= 31:\n",
        "    return True\n",
        "  return False\n",
        "\n",
        "def validaMes(mes):\n",
        "  if 1 <= mes <= 12:\n",
        "    return True\n",
        "  return False\n",
        "\n",
        "def validaAno(ano):\n",
        "  if ano >= 0:\n",
        "    return True\n",
        "  return False\n",
        "\n",
        "if __name__ == '__main__':\n",
        "  main()"
      ],
      "execution_count": null,
      "outputs": [
        {
          "output_type": "stream",
          "text": [
            "Digite a data no formato dd/mm/aaaa: 81/11/2000\n",
            "Data INVÁLIDA\n"
          ],
          "name": "stdout"
        }
      ]
    },
    {
      "cell_type": "code",
      "metadata": {
        "colab": {
          "base_uri": "https://localhost:8080/"
        },
        "id": "DnxXFTAcpP4L",
        "outputId": "00a9344a-a597-4406-a822-d76785cc1ff8"
      },
      "source": [
        "import datetime\n",
        "\n",
        "date_string = input('Digite a data no formato dd/mm/aaaa: ')\n",
        "\n",
        "try:\n",
        "  datetime.datetime.strptime(date_string, '%d/%m/%Y')\n",
        "  print('Data válida')\n",
        "\n",
        "except ValueError:\n",
        "  print('Data INVALIDA. Digite no formato dd/mm/aaaa')\n"
      ],
      "execution_count": null,
      "outputs": [
        {
          "output_type": "stream",
          "text": [
            "Digite a data no formato dd/mm/aaaa: 19/03/1998\n",
            "Data válida\n"
          ],
          "name": "stdout"
        }
      ]
    },
    {
      "cell_type": "markdown",
      "metadata": {
        "id": "TgyLzECrvUnP"
      },
      "source": [
        "6. Faça um Programa que leia um número e exiba o dia correspondente da semana. (1-Domingo, 2- Segunda, etc.), se digitar outro valor deve aparecer valor inválido."
      ]
    },
    {
      "cell_type": "code",
      "metadata": {
        "id": "aDvuInTgvifq",
        "colab": {
          "base_uri": "https://localhost:8080/"
        },
        "outputId": "cec98144-c1c0-453d-d078-fb6193f70111"
      },
      "source": [
        "num = int(input(\"Digite o número: \"))\n",
        "\n",
        "if num == 1:\n",
        "  print('Domingo')\n",
        "elif num == 2:\n",
        "  print('Segunda-feira')\n",
        "elif num == 3:\n",
        "  print('Terça-feira')\n",
        "elif num == 4:\n",
        "  print('Quarta-feira')\n",
        "elif num == 5:\n",
        "  print('Quinta-feira')\n",
        "elif num == 6:\n",
        "  print('Sexta-feira')\n",
        "elif num == 7:\n",
        "  print('Sábado')\n",
        "else:\n",
        "  print('Valor Inválido')"
      ],
      "execution_count": null,
      "outputs": [
        {
          "output_type": "stream",
          "text": [
            "Digite o número: 5\n",
            "Quinta-feira\n"
          ],
          "name": "stdout"
        }
      ]
    },
    {
      "cell_type": "markdown",
      "metadata": {
        "id": "Si_23BWYxrO5"
      },
      "source": [
        "7. Crie um programa para um circo, no qual dada a idade de uma pessoa, seja indicado o valor do ingresso segundo as regras:\n",
        "\n",
        "a) A entrada para qualquer pessoa com menos de 4 anos ou maior que 60 é gratuita;\n",
        "\n",
        "b) a entrada para qualquer pessoa com idade entre 4 e 18 custa 20 reais;\n",
        "\n",
        "c) a entrada para qualquer pessoa com 18 ou mais custa 30 reais;\n",
        "\n",
        "d) estudantes e professores pagam meia-entrada."
      ]
    },
    {
      "cell_type": "code",
      "metadata": {
        "id": "pNZbzASKxtzV",
        "colab": {
          "base_uri": "https://localhost:8080/"
        },
        "outputId": "8f86456b-041f-459e-f365-7e65c4e8d0a4"
      },
      "source": [
        "def main():\n",
        "  idade = int(input('Digite a idade: '))\n",
        "  e_meia_entrada = str(input('Você é estudante ou professor? (s ou n) '))\n",
        "\n",
        "  valor = calculaValorIngresso(idade)\n",
        "\n",
        "  valor = analisaMeiaEntrada(e_meia_entrada, valor)\n",
        "\n",
        "  print(f'O valor do ingresso é R$ {valor:.2f}')\n",
        "\n",
        "def calculaValorIngresso(idade):\n",
        "  if ((0 <= idade < 4) or (idade >= 60)):\n",
        "    return 0\n",
        "  elif 4 <= idade < 18:\n",
        "    return 20\n",
        "  elif idade >= 18:\n",
        "    return 30\n",
        "\n",
        "def analisaMeiaEntrada(e_meia_entrada, valor):\n",
        "  if e_meia_entrada == 's':\n",
        "    return valor/2\n",
        "  return valor\n",
        "\n",
        "\n",
        "if __name__ == '__main__':\n",
        "  main()"
      ],
      "execution_count": null,
      "outputs": [
        {
          "output_type": "stream",
          "text": [
            "Digite a idade: 17\n",
            "Você é estudante ou professor? (s ou n)s\n",
            "O valor do ingresso é R$ 10.00\n"
          ],
          "name": "stdout"
        }
      ]
    },
    {
      "cell_type": "markdown",
      "metadata": {
        "id": "FR7yDSeiqG3C"
      },
      "source": [
        "8. Complete o código na célula abaixo para imprimir uma mensagem informando se um aluno foi aprovado ou reprovado em uma disciplina com base em sua nota final. A nota mínima necessária para aprovação é  5 ."
      ]
    },
    {
      "cell_type": "code",
      "metadata": {
        "id": "SOYR5rb_qJeM",
        "colab": {
          "base_uri": "https://localhost:8080/"
        },
        "outputId": "5d650eb7-f5ed-4c2a-a2e9-a20fbde4a229"
      },
      "source": [
        "notaAluno = 7 # insira aqui a nota do aluno\n",
        "\n",
        "# Complete o código abaixo\n",
        "if notaAluno >= 5 :\n",
        "    print(\"Você foi aprovado.\")\n",
        "else:\n",
        "    print(\"Você foi reprovado.\")"
      ],
      "execution_count": null,
      "outputs": [
        {
          "output_type": "stream",
          "text": [
            "Você foi aprovado.\n"
          ],
          "name": "stdout"
        }
      ]
    },
    {
      "cell_type": "markdown",
      "metadata": {
        "id": "Hm-cqUzIqdiM"
      },
      "source": [
        "9. Construa uma pequena **chave dicotômica** para identificar uma determinada planta como membro de um dos principais grupos: *Bryophyta*, *Pteridophyta*, *Gymnospermae* ou *Angiospermae*.\n",
        "A identificação se dá com base na presença (1) ou ausência (0) de três caracteres: **vascularização**, **sementes** e **flores**. \n",
        "Utilize a tabela abaixo como referência."
      ]
    },
    {
      "cell_type": "markdown",
      "metadata": {
        "id": "rb-IaXMLqmwB"
      },
      "source": [
        "| Grupo | Vascularização| Sementes| Flores |\n",
        "|--|--|--|--|\n",
        "| Bryophyta | 0 | 0 | 0 |\n",
        "| Pteridophyta | 1| 0 | 0 |\n",
        "| Gymnospermae | 1 | 1 | 0 |\n",
        "| Angiospermae | 1 | 1 | 1 |\n"
      ]
    },
    {
      "cell_type": "code",
      "metadata": {
        "id": "zoQsaFZjqcxA",
        "colab": {
          "base_uri": "https://localhost:8080/"
        },
        "outputId": "111326a0-50f8-4f17-fb5c-7cb9465f21c9"
      },
      "source": [
        "# Estas variáveis armazenam a presença (1) ou ausência (0) de cada caractere\n",
        "vasc = 0\n",
        "sem = 0\n",
        "flor = 0\n",
        "\n",
        "print(analisaChave(vasc, sem, flor))\n",
        "# Seu código aqui\n",
        "def analisaChave(vasc, sem, flor):\n",
        "  if vasc == 0 and sem == 0 and flor == 0:\n",
        "    return 'Bryophyta'\n",
        "  elif vasc == 1 and sem == 0 and flor == 0:\n",
        "    return 'Pteridophyta'\n",
        "  elif vasc == 1 and sem == 1 and flor == 0:\n",
        "    return 'Gymnospermae'\n",
        "  elif vasc == 1 and sem == 1 and flor == 1:\n",
        "    return 'Angiospermae'\n",
        "  else:\n",
        "    return 'None'"
      ],
      "execution_count": null,
      "outputs": [
        {
          "output_type": "stream",
          "text": [
            "Bryophyta\n"
          ],
          "name": "stdout"
        }
      ]
    },
    {
      "cell_type": "markdown",
      "metadata": {
        "id": "aNI2VzpEsuSo"
      },
      "source": [
        "10. Um posto está vendendo combustíveis com a seguinte tabela de descontos:\n",
        "\n",
        "a. Álcool:\n",
        "\n",
        "    até 20 litros, desconto de 3% por litro\n",
        "    acima de 20 litros, desconto de 5% por litro\n",
        "\n",
        "b. Gasolina:\n",
        "\n",
        "    até 20 litros, desconto de 4% por litro\n",
        "    acima de 20 litros, desconto de 6% por litro\n",
        "\n",
        "Escreva um algoritmo que leia o número de litros vendidos, o tipo de combustível (codificado da seguinte forma: A-álcool, G-gasolina), calcule e imprima o valor a ser pago pelo cliente sabendo-se que o preço do litro da gasolina é 2.50 o preço do litro do álcool é 1,90."
      ]
    },
    {
      "cell_type": "code",
      "metadata": {
        "id": "D3MJKrgxtlzb",
        "colab": {
          "base_uri": "https://localhost:8080/"
        },
        "outputId": "3375c67f-cd66-47b2-ccd8-2aa4726a402e"
      },
      "source": [
        "def main():\n",
        "  litros_vendidos = float(input(\"Digite a quantidade de livros vendidos: \"))\n",
        "  tipo_combustivel = str(input('Digite A para alcool e G para gasolina: '))\n",
        "\n",
        "  preco = calculaPreco(litros_vendidos, tipo_combustivel)\n",
        "\n",
        "  print(f'O preço a ser pago é de R$ {preco:.2f}')\n",
        "\n",
        "def calculaPreco(litros_vendidos, tipo_combustivel):\n",
        "  if tipo_combustivel == 'A':\n",
        "    return litros_vendidos*1.9\n",
        "  elif tipo_combustivel == 'G':\n",
        "    return litros_vendidos*2.5\n",
        "\n",
        "if __name__=='__main__':\n",
        "  main()"
      ],
      "execution_count": null,
      "outputs": [
        {
          "output_type": "stream",
          "text": [
            "Digite a quantidade de livros vendidos: 1\n",
            "Digite A para alcool e G para gasolina: A\n",
            "O preço a ser pago é de R$ 1.90\n"
          ],
          "name": "stdout"
        }
      ]
    },
    {
      "cell_type": "markdown",
      "metadata": {
        "id": "wpMhfBBetmCa"
      },
      "source": [
        "11. Faça um Programa que leia 2 números e em seguida pergunte ao usuário qual operação ele deseja realizar. O resultado da operação deve ser acompanhado de uma frase que diga se o número é:\n",
        "\n",
        "a. par ou ímpar;\n",
        "\n",
        "b. positivo ou negativo;\n",
        "\n",
        "c. inteiro ou decimal."
      ]
    },
    {
      "cell_type": "code",
      "metadata": {
        "id": "ypcUM1gvtuVY",
        "colab": {
          "base_uri": "https://localhost:8080/"
        },
        "outputId": "01072c43-1006-4f6b-b9ed-705b63316052"
      },
      "source": [
        "def main():\n",
        "  num1 = float(input('Digite o primeiro número: '))\n",
        "  num2 = float(input('Digite o segundo número: '))\n",
        "  operacao = int(input('Qual operação deseja fazer?\\n1- Soma\\n2- Subtração\\n3- Multiplicação\\n4- Divisão\\n'))\n",
        "\n",
        "  resultado = realizaOperacao(operacao, num1, num2)\n",
        "  analisaResultado(resultado)\n",
        "\n",
        "\n",
        "def analisaResultado(resultado):\n",
        "  if resultado % 2 == 0:\n",
        "    analise1 = \"Par\"\n",
        "  else:\n",
        "    analise1 = \"Impar\"\n",
        "\n",
        "  if resultado >= 0:\n",
        "    analise2 = 'Positivo'\n",
        "  else:\n",
        "    analise2 = 'Negativo'\n",
        "\n",
        "  if resultado.is_integer():\n",
        "    analise3 = 'Inteiro'\n",
        "  else:\n",
        "    analise3 = 'Decimal'\n",
        "\n",
        "\n",
        "\n",
        "  print(f'O resultado da operação é: {resultado:.2f}')\n",
        "  print(f'Propriedades\\n- {analise1}\\n- {analise2}\\n- {analise3}')\n",
        "\n",
        "\n",
        "def realizaOperacao(operacao, num1, num2):\n",
        "  if operacao == 1:\n",
        "    resultado = num1 + num2\n",
        "  elif operacao == 2:\n",
        "    resultado = num1 - num2\n",
        "  elif operacao == 3:\n",
        "    resultado = num1*num2\n",
        "  elif operacao == 4:\n",
        "    resultado = num1/num2\n",
        "  else:\n",
        "    print('OPERAÇÃO NÃO IDENTIFICADA')\n",
        "  return resultado\n",
        "\n",
        "\n",
        "if __name__ == '__main__':\n",
        "  main()\n"
      ],
      "execution_count": null,
      "outputs": [
        {
          "output_type": "stream",
          "text": [
            "Digite o primeiro número: 5\n",
            "Digite o segundo número: 2\n",
            "Qual operação deseja fazer?\n",
            "1- Soma\n",
            "2- Subtração\n",
            "3- Multiplicação\n",
            "4- Divisão\n",
            "4\n",
            "O resultado da operação é: 2.50\n",
            "Propriedades\n",
            "- Impar\n",
            "- Positivo\n",
            "- Decimal\n"
          ],
          "name": "stdout"
        }
      ]
    }
  ]
}